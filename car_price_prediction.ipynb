{
  "nbformat": 4,
  "nbformat_minor": 0,
  "metadata": {
    "kernelspec": {
      "language": "python",
      "display_name": "Python 3",
      "name": "python3"
    },
    "language_info": {
      "name": "python",
      "version": "3.7.10",
      "mimetype": "text/x-python",
      "codemirror_mode": {
        "name": "ipython",
        "version": 3
      },
      "pygments_lexer": "ipython3",
      "nbconvert_exporter": "python",
      "file_extension": ".py"
    },
    "colab": {
      "name": "car-price-prediction.ipynb",
      "provenance": []
    }
  },
  "cells": [
    {
      "cell_type": "code",
      "metadata": {
        "_uuid": "8f2839f25d086af736a60e9eeb907d3b93b6e0e5",
        "_cell_guid": "b1076dfc-b9ad-4769-8c92-a6c4dae69d19",
        "execution": {
          "iopub.status.busy": "2021-06-14T09:00:33.720745Z",
          "iopub.execute_input": "2021-06-14T09:00:33.721201Z",
          "iopub.status.idle": "2021-06-14T09:00:33.737384Z",
          "shell.execute_reply.started": "2021-06-14T09:00:33.721096Z",
          "shell.execute_reply": "2021-06-14T09:00:33.736334Z"
        },
        "trusted": true,
        "id": "LKDuh4inygHZ"
      },
      "source": [
        "import numpy as np # linear algebra\n",
        "import pandas as pd # data processing, CSV file I/O (e.g. pd.read_csv)\n"
      ],
      "execution_count": 35,
      "outputs": []
    },
    {
      "cell_type": "code",
      "metadata": {
        "execution": {
          "iopub.status.busy": "2021-06-14T09:00:33.738986Z",
          "iopub.execute_input": "2021-06-14T09:00:33.739291Z",
          "iopub.status.idle": "2021-06-14T09:00:33.805267Z",
          "shell.execute_reply.started": "2021-06-14T09:00:33.739259Z",
          "shell.execute_reply": "2021-06-14T09:00:33.804183Z"
        },
        "trusted": true,
        "colab": {
          "base_uri": "https://localhost:8080/",
          "height": 402
        },
        "id": "Z8tn7nbaygHb",
        "outputId": "7c22e9b7-1dab-445c-f193-afede281cca0"
      },
      "source": [
        "df = pd.read_csv(\"car data.csv\")\n",
        "df"
      ],
      "execution_count": 4,
      "outputs": [
        {
          "output_type": "execute_result",
          "data": {
            "text/html": [
              "<div>\n",
              "<style scoped>\n",
              "    .dataframe tbody tr th:only-of-type {\n",
              "        vertical-align: middle;\n",
              "    }\n",
              "\n",
              "    .dataframe tbody tr th {\n",
              "        vertical-align: top;\n",
              "    }\n",
              "\n",
              "    .dataframe thead th {\n",
              "        text-align: right;\n",
              "    }\n",
              "</style>\n",
              "<table border=\"1\" class=\"dataframe\">\n",
              "  <thead>\n",
              "    <tr style=\"text-align: right;\">\n",
              "      <th></th>\n",
              "      <th>Car_Name</th>\n",
              "      <th>Year</th>\n",
              "      <th>Selling_Price</th>\n",
              "      <th>Present_Price</th>\n",
              "      <th>Kms_Driven</th>\n",
              "      <th>Fuel_Type</th>\n",
              "      <th>Seller_Type</th>\n",
              "      <th>Transmission</th>\n",
              "      <th>Owner</th>\n",
              "    </tr>\n",
              "  </thead>\n",
              "  <tbody>\n",
              "    <tr>\n",
              "      <th>0</th>\n",
              "      <td>ritz</td>\n",
              "      <td>2014</td>\n",
              "      <td>3.35</td>\n",
              "      <td>5.59</td>\n",
              "      <td>27000</td>\n",
              "      <td>Petrol</td>\n",
              "      <td>Dealer</td>\n",
              "      <td>Manual</td>\n",
              "      <td>0</td>\n",
              "    </tr>\n",
              "    <tr>\n",
              "      <th>1</th>\n",
              "      <td>sx4</td>\n",
              "      <td>2013</td>\n",
              "      <td>4.75</td>\n",
              "      <td>9.54</td>\n",
              "      <td>43000</td>\n",
              "      <td>Diesel</td>\n",
              "      <td>Dealer</td>\n",
              "      <td>Manual</td>\n",
              "      <td>0</td>\n",
              "    </tr>\n",
              "    <tr>\n",
              "      <th>2</th>\n",
              "      <td>ciaz</td>\n",
              "      <td>2017</td>\n",
              "      <td>7.25</td>\n",
              "      <td>9.85</td>\n",
              "      <td>6900</td>\n",
              "      <td>Petrol</td>\n",
              "      <td>Dealer</td>\n",
              "      <td>Manual</td>\n",
              "      <td>0</td>\n",
              "    </tr>\n",
              "    <tr>\n",
              "      <th>3</th>\n",
              "      <td>wagon r</td>\n",
              "      <td>2011</td>\n",
              "      <td>2.85</td>\n",
              "      <td>4.15</td>\n",
              "      <td>5200</td>\n",
              "      <td>Petrol</td>\n",
              "      <td>Dealer</td>\n",
              "      <td>Manual</td>\n",
              "      <td>0</td>\n",
              "    </tr>\n",
              "    <tr>\n",
              "      <th>4</th>\n",
              "      <td>swift</td>\n",
              "      <td>2014</td>\n",
              "      <td>4.60</td>\n",
              "      <td>6.87</td>\n",
              "      <td>42450</td>\n",
              "      <td>Diesel</td>\n",
              "      <td>Dealer</td>\n",
              "      <td>Manual</td>\n",
              "      <td>0</td>\n",
              "    </tr>\n",
              "    <tr>\n",
              "      <th>...</th>\n",
              "      <td>...</td>\n",
              "      <td>...</td>\n",
              "      <td>...</td>\n",
              "      <td>...</td>\n",
              "      <td>...</td>\n",
              "      <td>...</td>\n",
              "      <td>...</td>\n",
              "      <td>...</td>\n",
              "      <td>...</td>\n",
              "    </tr>\n",
              "    <tr>\n",
              "      <th>296</th>\n",
              "      <td>city</td>\n",
              "      <td>2016</td>\n",
              "      <td>9.50</td>\n",
              "      <td>11.60</td>\n",
              "      <td>33988</td>\n",
              "      <td>Diesel</td>\n",
              "      <td>Dealer</td>\n",
              "      <td>Manual</td>\n",
              "      <td>0</td>\n",
              "    </tr>\n",
              "    <tr>\n",
              "      <th>297</th>\n",
              "      <td>brio</td>\n",
              "      <td>2015</td>\n",
              "      <td>4.00</td>\n",
              "      <td>5.90</td>\n",
              "      <td>60000</td>\n",
              "      <td>Petrol</td>\n",
              "      <td>Dealer</td>\n",
              "      <td>Manual</td>\n",
              "      <td>0</td>\n",
              "    </tr>\n",
              "    <tr>\n",
              "      <th>298</th>\n",
              "      <td>city</td>\n",
              "      <td>2009</td>\n",
              "      <td>3.35</td>\n",
              "      <td>11.00</td>\n",
              "      <td>87934</td>\n",
              "      <td>Petrol</td>\n",
              "      <td>Dealer</td>\n",
              "      <td>Manual</td>\n",
              "      <td>0</td>\n",
              "    </tr>\n",
              "    <tr>\n",
              "      <th>299</th>\n",
              "      <td>city</td>\n",
              "      <td>2017</td>\n",
              "      <td>11.50</td>\n",
              "      <td>12.50</td>\n",
              "      <td>9000</td>\n",
              "      <td>Diesel</td>\n",
              "      <td>Dealer</td>\n",
              "      <td>Manual</td>\n",
              "      <td>0</td>\n",
              "    </tr>\n",
              "    <tr>\n",
              "      <th>300</th>\n",
              "      <td>brio</td>\n",
              "      <td>2016</td>\n",
              "      <td>5.30</td>\n",
              "      <td>5.90</td>\n",
              "      <td>5464</td>\n",
              "      <td>Petrol</td>\n",
              "      <td>Dealer</td>\n",
              "      <td>Manual</td>\n",
              "      <td>0</td>\n",
              "    </tr>\n",
              "  </tbody>\n",
              "</table>\n",
              "<p>301 rows × 9 columns</p>\n",
              "</div>"
            ],
            "text/plain": [
              "    Car_Name  Year  Selling_Price  ...  Seller_Type  Transmission Owner\n",
              "0       ritz  2014           3.35  ...       Dealer        Manual     0\n",
              "1        sx4  2013           4.75  ...       Dealer        Manual     0\n",
              "2       ciaz  2017           7.25  ...       Dealer        Manual     0\n",
              "3    wagon r  2011           2.85  ...       Dealer        Manual     0\n",
              "4      swift  2014           4.60  ...       Dealer        Manual     0\n",
              "..       ...   ...            ...  ...          ...           ...   ...\n",
              "296     city  2016           9.50  ...       Dealer        Manual     0\n",
              "297     brio  2015           4.00  ...       Dealer        Manual     0\n",
              "298     city  2009           3.35  ...       Dealer        Manual     0\n",
              "299     city  2017          11.50  ...       Dealer        Manual     0\n",
              "300     brio  2016           5.30  ...       Dealer        Manual     0\n",
              "\n",
              "[301 rows x 9 columns]"
            ]
          },
          "metadata": {
            "tags": []
          },
          "execution_count": 4
        }
      ]
    },
    {
      "cell_type": "code",
      "metadata": {
        "execution": {
          "iopub.status.busy": "2021-06-14T09:00:33.807365Z",
          "iopub.execute_input": "2021-06-14T09:00:33.807738Z",
          "iopub.status.idle": "2021-06-14T09:00:33.814803Z",
          "shell.execute_reply.started": "2021-06-14T09:00:33.807703Z",
          "shell.execute_reply": "2021-06-14T09:00:33.813409Z"
        },
        "trusted": true,
        "colab": {
          "base_uri": "https://localhost:8080/"
        },
        "id": "NLselXNeygHb",
        "outputId": "a807d3ae-dcf2-46b6-be0f-a5d9e5f49a5a"
      },
      "source": [
        "df.shape"
      ],
      "execution_count": 5,
      "outputs": [
        {
          "output_type": "execute_result",
          "data": {
            "text/plain": [
              "(301, 9)"
            ]
          },
          "metadata": {
            "tags": []
          },
          "execution_count": 5
        }
      ]
    },
    {
      "cell_type": "code",
      "metadata": {
        "execution": {
          "iopub.status.busy": "2021-06-14T09:00:33.816737Z",
          "iopub.execute_input": "2021-06-14T09:00:33.817094Z",
          "iopub.status.idle": "2021-06-14T09:00:33.838083Z",
          "shell.execute_reply.started": "2021-06-14T09:00:33.817064Z",
          "shell.execute_reply": "2021-06-14T09:00:33.836212Z"
        },
        "trusted": true,
        "colab": {
          "base_uri": "https://localhost:8080/"
        },
        "id": "DyVuztdaygHc",
        "outputId": "643b3aab-1a42-423d-df6a-f48b65788f55"
      },
      "source": [
        "print(df[\"Seller_Type\"].unique())\n",
        "print(df[\"Transmission\"].unique())\n",
        "print(df[\"Owner\"].unique())\n",
        "print(df[\"Fuel_Type\"].unique())"
      ],
      "execution_count": 6,
      "outputs": [
        {
          "output_type": "stream",
          "text": [
            "['Dealer' 'Individual']\n",
            "['Manual' 'Automatic']\n",
            "[0 1 3]\n",
            "['Petrol' 'Diesel' 'CNG']\n"
          ],
          "name": "stdout"
        }
      ]
    },
    {
      "cell_type": "code",
      "metadata": {
        "execution": {
          "iopub.status.busy": "2021-06-14T09:00:33.839879Z",
          "iopub.execute_input": "2021-06-14T09:00:33.840553Z",
          "iopub.status.idle": "2021-06-14T09:00:33.850888Z",
          "shell.execute_reply.started": "2021-06-14T09:00:33.840493Z",
          "shell.execute_reply": "2021-06-14T09:00:33.849888Z"
        },
        "trusted": true,
        "colab": {
          "base_uri": "https://localhost:8080/"
        },
        "id": "h65QcG2-ygHc",
        "outputId": "918d31e2-7a59-46b2-824a-2e0d3f5fc549"
      },
      "source": [
        "##missing values\n",
        "df.isnull().sum()"
      ],
      "execution_count": 7,
      "outputs": [
        {
          "output_type": "execute_result",
          "data": {
            "text/plain": [
              "Car_Name         0\n",
              "Year             0\n",
              "Selling_Price    0\n",
              "Present_Price    0\n",
              "Kms_Driven       0\n",
              "Fuel_Type        0\n",
              "Seller_Type      0\n",
              "Transmission     0\n",
              "Owner            0\n",
              "dtype: int64"
            ]
          },
          "metadata": {
            "tags": []
          },
          "execution_count": 7
        }
      ]
    },
    {
      "cell_type": "code",
      "metadata": {
        "execution": {
          "iopub.status.busy": "2021-06-14T09:00:33.852356Z",
          "iopub.execute_input": "2021-06-14T09:00:33.853007Z",
          "iopub.status.idle": "2021-06-14T09:00:33.890493Z",
          "shell.execute_reply.started": "2021-06-14T09:00:33.852958Z",
          "shell.execute_reply": "2021-06-14T09:00:33.889214Z"
        },
        "trusted": true,
        "colab": {
          "base_uri": "https://localhost:8080/",
          "height": 284
        },
        "id": "OeWoLQcAygHd",
        "outputId": "2d164545-1757-4a5c-bf77-d8c2933abd3c"
      },
      "source": [
        "df.describe()"
      ],
      "execution_count": 8,
      "outputs": [
        {
          "output_type": "execute_result",
          "data": {
            "text/html": [
              "<div>\n",
              "<style scoped>\n",
              "    .dataframe tbody tr th:only-of-type {\n",
              "        vertical-align: middle;\n",
              "    }\n",
              "\n",
              "    .dataframe tbody tr th {\n",
              "        vertical-align: top;\n",
              "    }\n",
              "\n",
              "    .dataframe thead th {\n",
              "        text-align: right;\n",
              "    }\n",
              "</style>\n",
              "<table border=\"1\" class=\"dataframe\">\n",
              "  <thead>\n",
              "    <tr style=\"text-align: right;\">\n",
              "      <th></th>\n",
              "      <th>Year</th>\n",
              "      <th>Selling_Price</th>\n",
              "      <th>Present_Price</th>\n",
              "      <th>Kms_Driven</th>\n",
              "      <th>Owner</th>\n",
              "    </tr>\n",
              "  </thead>\n",
              "  <tbody>\n",
              "    <tr>\n",
              "      <th>count</th>\n",
              "      <td>301.000000</td>\n",
              "      <td>301.000000</td>\n",
              "      <td>301.000000</td>\n",
              "      <td>301.000000</td>\n",
              "      <td>301.000000</td>\n",
              "    </tr>\n",
              "    <tr>\n",
              "      <th>mean</th>\n",
              "      <td>2013.627907</td>\n",
              "      <td>4.661296</td>\n",
              "      <td>7.628472</td>\n",
              "      <td>36947.205980</td>\n",
              "      <td>0.043189</td>\n",
              "    </tr>\n",
              "    <tr>\n",
              "      <th>std</th>\n",
              "      <td>2.891554</td>\n",
              "      <td>5.082812</td>\n",
              "      <td>8.644115</td>\n",
              "      <td>38886.883882</td>\n",
              "      <td>0.247915</td>\n",
              "    </tr>\n",
              "    <tr>\n",
              "      <th>min</th>\n",
              "      <td>2003.000000</td>\n",
              "      <td>0.100000</td>\n",
              "      <td>0.320000</td>\n",
              "      <td>500.000000</td>\n",
              "      <td>0.000000</td>\n",
              "    </tr>\n",
              "    <tr>\n",
              "      <th>25%</th>\n",
              "      <td>2012.000000</td>\n",
              "      <td>0.900000</td>\n",
              "      <td>1.200000</td>\n",
              "      <td>15000.000000</td>\n",
              "      <td>0.000000</td>\n",
              "    </tr>\n",
              "    <tr>\n",
              "      <th>50%</th>\n",
              "      <td>2014.000000</td>\n",
              "      <td>3.600000</td>\n",
              "      <td>6.400000</td>\n",
              "      <td>32000.000000</td>\n",
              "      <td>0.000000</td>\n",
              "    </tr>\n",
              "    <tr>\n",
              "      <th>75%</th>\n",
              "      <td>2016.000000</td>\n",
              "      <td>6.000000</td>\n",
              "      <td>9.900000</td>\n",
              "      <td>48767.000000</td>\n",
              "      <td>0.000000</td>\n",
              "    </tr>\n",
              "    <tr>\n",
              "      <th>max</th>\n",
              "      <td>2018.000000</td>\n",
              "      <td>35.000000</td>\n",
              "      <td>92.600000</td>\n",
              "      <td>500000.000000</td>\n",
              "      <td>3.000000</td>\n",
              "    </tr>\n",
              "  </tbody>\n",
              "</table>\n",
              "</div>"
            ],
            "text/plain": [
              "              Year  Selling_Price  Present_Price     Kms_Driven       Owner\n",
              "count   301.000000     301.000000     301.000000     301.000000  301.000000\n",
              "mean   2013.627907       4.661296       7.628472   36947.205980    0.043189\n",
              "std       2.891554       5.082812       8.644115   38886.883882    0.247915\n",
              "min    2003.000000       0.100000       0.320000     500.000000    0.000000\n",
              "25%    2012.000000       0.900000       1.200000   15000.000000    0.000000\n",
              "50%    2014.000000       3.600000       6.400000   32000.000000    0.000000\n",
              "75%    2016.000000       6.000000       9.900000   48767.000000    0.000000\n",
              "max    2018.000000      35.000000      92.600000  500000.000000    3.000000"
            ]
          },
          "metadata": {
            "tags": []
          },
          "execution_count": 8
        }
      ]
    },
    {
      "cell_type": "code",
      "metadata": {
        "execution": {
          "iopub.status.busy": "2021-06-14T09:00:33.891928Z",
          "iopub.execute_input": "2021-06-14T09:00:33.892256Z",
          "iopub.status.idle": "2021-06-14T09:00:33.935853Z",
          "shell.execute_reply.started": "2021-06-14T09:00:33.892223Z",
          "shell.execute_reply": "2021-06-14T09:00:33.935045Z"
        },
        "trusted": true,
        "colab": {
          "base_uri": "https://localhost:8080/",
          "height": 402
        },
        "id": "U_bwb5eHygHd",
        "outputId": "a5eeaaf2-1930-4fd5-9002-6cb8d32c8a7f"
      },
      "source": [
        "df[\"no_year\"] = 2020-df[\"Year\"]\n",
        "df"
      ],
      "execution_count": 9,
      "outputs": [
        {
          "output_type": "execute_result",
          "data": {
            "text/html": [
              "<div>\n",
              "<style scoped>\n",
              "    .dataframe tbody tr th:only-of-type {\n",
              "        vertical-align: middle;\n",
              "    }\n",
              "\n",
              "    .dataframe tbody tr th {\n",
              "        vertical-align: top;\n",
              "    }\n",
              "\n",
              "    .dataframe thead th {\n",
              "        text-align: right;\n",
              "    }\n",
              "</style>\n",
              "<table border=\"1\" class=\"dataframe\">\n",
              "  <thead>\n",
              "    <tr style=\"text-align: right;\">\n",
              "      <th></th>\n",
              "      <th>Car_Name</th>\n",
              "      <th>Year</th>\n",
              "      <th>Selling_Price</th>\n",
              "      <th>Present_Price</th>\n",
              "      <th>Kms_Driven</th>\n",
              "      <th>Fuel_Type</th>\n",
              "      <th>Seller_Type</th>\n",
              "      <th>Transmission</th>\n",
              "      <th>Owner</th>\n",
              "      <th>no_year</th>\n",
              "    </tr>\n",
              "  </thead>\n",
              "  <tbody>\n",
              "    <tr>\n",
              "      <th>0</th>\n",
              "      <td>ritz</td>\n",
              "      <td>2014</td>\n",
              "      <td>3.35</td>\n",
              "      <td>5.59</td>\n",
              "      <td>27000</td>\n",
              "      <td>Petrol</td>\n",
              "      <td>Dealer</td>\n",
              "      <td>Manual</td>\n",
              "      <td>0</td>\n",
              "      <td>6</td>\n",
              "    </tr>\n",
              "    <tr>\n",
              "      <th>1</th>\n",
              "      <td>sx4</td>\n",
              "      <td>2013</td>\n",
              "      <td>4.75</td>\n",
              "      <td>9.54</td>\n",
              "      <td>43000</td>\n",
              "      <td>Diesel</td>\n",
              "      <td>Dealer</td>\n",
              "      <td>Manual</td>\n",
              "      <td>0</td>\n",
              "      <td>7</td>\n",
              "    </tr>\n",
              "    <tr>\n",
              "      <th>2</th>\n",
              "      <td>ciaz</td>\n",
              "      <td>2017</td>\n",
              "      <td>7.25</td>\n",
              "      <td>9.85</td>\n",
              "      <td>6900</td>\n",
              "      <td>Petrol</td>\n",
              "      <td>Dealer</td>\n",
              "      <td>Manual</td>\n",
              "      <td>0</td>\n",
              "      <td>3</td>\n",
              "    </tr>\n",
              "    <tr>\n",
              "      <th>3</th>\n",
              "      <td>wagon r</td>\n",
              "      <td>2011</td>\n",
              "      <td>2.85</td>\n",
              "      <td>4.15</td>\n",
              "      <td>5200</td>\n",
              "      <td>Petrol</td>\n",
              "      <td>Dealer</td>\n",
              "      <td>Manual</td>\n",
              "      <td>0</td>\n",
              "      <td>9</td>\n",
              "    </tr>\n",
              "    <tr>\n",
              "      <th>4</th>\n",
              "      <td>swift</td>\n",
              "      <td>2014</td>\n",
              "      <td>4.60</td>\n",
              "      <td>6.87</td>\n",
              "      <td>42450</td>\n",
              "      <td>Diesel</td>\n",
              "      <td>Dealer</td>\n",
              "      <td>Manual</td>\n",
              "      <td>0</td>\n",
              "      <td>6</td>\n",
              "    </tr>\n",
              "    <tr>\n",
              "      <th>...</th>\n",
              "      <td>...</td>\n",
              "      <td>...</td>\n",
              "      <td>...</td>\n",
              "      <td>...</td>\n",
              "      <td>...</td>\n",
              "      <td>...</td>\n",
              "      <td>...</td>\n",
              "      <td>...</td>\n",
              "      <td>...</td>\n",
              "      <td>...</td>\n",
              "    </tr>\n",
              "    <tr>\n",
              "      <th>296</th>\n",
              "      <td>city</td>\n",
              "      <td>2016</td>\n",
              "      <td>9.50</td>\n",
              "      <td>11.60</td>\n",
              "      <td>33988</td>\n",
              "      <td>Diesel</td>\n",
              "      <td>Dealer</td>\n",
              "      <td>Manual</td>\n",
              "      <td>0</td>\n",
              "      <td>4</td>\n",
              "    </tr>\n",
              "    <tr>\n",
              "      <th>297</th>\n",
              "      <td>brio</td>\n",
              "      <td>2015</td>\n",
              "      <td>4.00</td>\n",
              "      <td>5.90</td>\n",
              "      <td>60000</td>\n",
              "      <td>Petrol</td>\n",
              "      <td>Dealer</td>\n",
              "      <td>Manual</td>\n",
              "      <td>0</td>\n",
              "      <td>5</td>\n",
              "    </tr>\n",
              "    <tr>\n",
              "      <th>298</th>\n",
              "      <td>city</td>\n",
              "      <td>2009</td>\n",
              "      <td>3.35</td>\n",
              "      <td>11.00</td>\n",
              "      <td>87934</td>\n",
              "      <td>Petrol</td>\n",
              "      <td>Dealer</td>\n",
              "      <td>Manual</td>\n",
              "      <td>0</td>\n",
              "      <td>11</td>\n",
              "    </tr>\n",
              "    <tr>\n",
              "      <th>299</th>\n",
              "      <td>city</td>\n",
              "      <td>2017</td>\n",
              "      <td>11.50</td>\n",
              "      <td>12.50</td>\n",
              "      <td>9000</td>\n",
              "      <td>Diesel</td>\n",
              "      <td>Dealer</td>\n",
              "      <td>Manual</td>\n",
              "      <td>0</td>\n",
              "      <td>3</td>\n",
              "    </tr>\n",
              "    <tr>\n",
              "      <th>300</th>\n",
              "      <td>brio</td>\n",
              "      <td>2016</td>\n",
              "      <td>5.30</td>\n",
              "      <td>5.90</td>\n",
              "      <td>5464</td>\n",
              "      <td>Petrol</td>\n",
              "      <td>Dealer</td>\n",
              "      <td>Manual</td>\n",
              "      <td>0</td>\n",
              "      <td>4</td>\n",
              "    </tr>\n",
              "  </tbody>\n",
              "</table>\n",
              "<p>301 rows × 10 columns</p>\n",
              "</div>"
            ],
            "text/plain": [
              "    Car_Name  Year  Selling_Price  ...  Transmission  Owner no_year\n",
              "0       ritz  2014           3.35  ...        Manual      0       6\n",
              "1        sx4  2013           4.75  ...        Manual      0       7\n",
              "2       ciaz  2017           7.25  ...        Manual      0       3\n",
              "3    wagon r  2011           2.85  ...        Manual      0       9\n",
              "4      swift  2014           4.60  ...        Manual      0       6\n",
              "..       ...   ...            ...  ...           ...    ...     ...\n",
              "296     city  2016           9.50  ...        Manual      0       4\n",
              "297     brio  2015           4.00  ...        Manual      0       5\n",
              "298     city  2009           3.35  ...        Manual      0      11\n",
              "299     city  2017          11.50  ...        Manual      0       3\n",
              "300     brio  2016           5.30  ...        Manual      0       4\n",
              "\n",
              "[301 rows x 10 columns]"
            ]
          },
          "metadata": {
            "tags": []
          },
          "execution_count": 9
        }
      ]
    },
    {
      "cell_type": "raw",
      "metadata": {
        "id": "CeI4Xi3AygHd"
      },
      "source": [
        ""
      ]
    },
    {
      "cell_type": "code",
      "metadata": {
        "id": "wG26v-aaygHg"
      },
      "source": [
        ""
      ],
      "execution_count": 9,
      "outputs": []
    },
    {
      "cell_type": "code",
      "metadata": {
        "execution": {
          "iopub.status.busy": "2021-06-14T09:00:33.937785Z",
          "iopub.execute_input": "2021-06-14T09:00:33.938231Z",
          "iopub.status.idle": "2021-06-14T09:00:33.961088Z",
          "shell.execute_reply.started": "2021-06-14T09:00:33.938197Z",
          "shell.execute_reply": "2021-06-14T09:00:33.960169Z"
        },
        "trusted": true,
        "colab": {
          "base_uri": "https://localhost:8080/",
          "height": 402
        },
        "id": "LRZJofl8ygHg",
        "outputId": "7325d91a-0ac1-4452-b9e1-bbbd7281a7c9"
      },
      "source": [
        "final_df = df[df.columns.difference(['Car_Name'])]\n",
        "final_df"
      ],
      "execution_count": 10,
      "outputs": [
        {
          "output_type": "execute_result",
          "data": {
            "text/html": [
              "<div>\n",
              "<style scoped>\n",
              "    .dataframe tbody tr th:only-of-type {\n",
              "        vertical-align: middle;\n",
              "    }\n",
              "\n",
              "    .dataframe tbody tr th {\n",
              "        vertical-align: top;\n",
              "    }\n",
              "\n",
              "    .dataframe thead th {\n",
              "        text-align: right;\n",
              "    }\n",
              "</style>\n",
              "<table border=\"1\" class=\"dataframe\">\n",
              "  <thead>\n",
              "    <tr style=\"text-align: right;\">\n",
              "      <th></th>\n",
              "      <th>Fuel_Type</th>\n",
              "      <th>Kms_Driven</th>\n",
              "      <th>Owner</th>\n",
              "      <th>Present_Price</th>\n",
              "      <th>Seller_Type</th>\n",
              "      <th>Selling_Price</th>\n",
              "      <th>Transmission</th>\n",
              "      <th>Year</th>\n",
              "      <th>no_year</th>\n",
              "    </tr>\n",
              "  </thead>\n",
              "  <tbody>\n",
              "    <tr>\n",
              "      <th>0</th>\n",
              "      <td>Petrol</td>\n",
              "      <td>27000</td>\n",
              "      <td>0</td>\n",
              "      <td>5.59</td>\n",
              "      <td>Dealer</td>\n",
              "      <td>3.35</td>\n",
              "      <td>Manual</td>\n",
              "      <td>2014</td>\n",
              "      <td>6</td>\n",
              "    </tr>\n",
              "    <tr>\n",
              "      <th>1</th>\n",
              "      <td>Diesel</td>\n",
              "      <td>43000</td>\n",
              "      <td>0</td>\n",
              "      <td>9.54</td>\n",
              "      <td>Dealer</td>\n",
              "      <td>4.75</td>\n",
              "      <td>Manual</td>\n",
              "      <td>2013</td>\n",
              "      <td>7</td>\n",
              "    </tr>\n",
              "    <tr>\n",
              "      <th>2</th>\n",
              "      <td>Petrol</td>\n",
              "      <td>6900</td>\n",
              "      <td>0</td>\n",
              "      <td>9.85</td>\n",
              "      <td>Dealer</td>\n",
              "      <td>7.25</td>\n",
              "      <td>Manual</td>\n",
              "      <td>2017</td>\n",
              "      <td>3</td>\n",
              "    </tr>\n",
              "    <tr>\n",
              "      <th>3</th>\n",
              "      <td>Petrol</td>\n",
              "      <td>5200</td>\n",
              "      <td>0</td>\n",
              "      <td>4.15</td>\n",
              "      <td>Dealer</td>\n",
              "      <td>2.85</td>\n",
              "      <td>Manual</td>\n",
              "      <td>2011</td>\n",
              "      <td>9</td>\n",
              "    </tr>\n",
              "    <tr>\n",
              "      <th>4</th>\n",
              "      <td>Diesel</td>\n",
              "      <td>42450</td>\n",
              "      <td>0</td>\n",
              "      <td>6.87</td>\n",
              "      <td>Dealer</td>\n",
              "      <td>4.60</td>\n",
              "      <td>Manual</td>\n",
              "      <td>2014</td>\n",
              "      <td>6</td>\n",
              "    </tr>\n",
              "    <tr>\n",
              "      <th>...</th>\n",
              "      <td>...</td>\n",
              "      <td>...</td>\n",
              "      <td>...</td>\n",
              "      <td>...</td>\n",
              "      <td>...</td>\n",
              "      <td>...</td>\n",
              "      <td>...</td>\n",
              "      <td>...</td>\n",
              "      <td>...</td>\n",
              "    </tr>\n",
              "    <tr>\n",
              "      <th>296</th>\n",
              "      <td>Diesel</td>\n",
              "      <td>33988</td>\n",
              "      <td>0</td>\n",
              "      <td>11.60</td>\n",
              "      <td>Dealer</td>\n",
              "      <td>9.50</td>\n",
              "      <td>Manual</td>\n",
              "      <td>2016</td>\n",
              "      <td>4</td>\n",
              "    </tr>\n",
              "    <tr>\n",
              "      <th>297</th>\n",
              "      <td>Petrol</td>\n",
              "      <td>60000</td>\n",
              "      <td>0</td>\n",
              "      <td>5.90</td>\n",
              "      <td>Dealer</td>\n",
              "      <td>4.00</td>\n",
              "      <td>Manual</td>\n",
              "      <td>2015</td>\n",
              "      <td>5</td>\n",
              "    </tr>\n",
              "    <tr>\n",
              "      <th>298</th>\n",
              "      <td>Petrol</td>\n",
              "      <td>87934</td>\n",
              "      <td>0</td>\n",
              "      <td>11.00</td>\n",
              "      <td>Dealer</td>\n",
              "      <td>3.35</td>\n",
              "      <td>Manual</td>\n",
              "      <td>2009</td>\n",
              "      <td>11</td>\n",
              "    </tr>\n",
              "    <tr>\n",
              "      <th>299</th>\n",
              "      <td>Diesel</td>\n",
              "      <td>9000</td>\n",
              "      <td>0</td>\n",
              "      <td>12.50</td>\n",
              "      <td>Dealer</td>\n",
              "      <td>11.50</td>\n",
              "      <td>Manual</td>\n",
              "      <td>2017</td>\n",
              "      <td>3</td>\n",
              "    </tr>\n",
              "    <tr>\n",
              "      <th>300</th>\n",
              "      <td>Petrol</td>\n",
              "      <td>5464</td>\n",
              "      <td>0</td>\n",
              "      <td>5.90</td>\n",
              "      <td>Dealer</td>\n",
              "      <td>5.30</td>\n",
              "      <td>Manual</td>\n",
              "      <td>2016</td>\n",
              "      <td>4</td>\n",
              "    </tr>\n",
              "  </tbody>\n",
              "</table>\n",
              "<p>301 rows × 9 columns</p>\n",
              "</div>"
            ],
            "text/plain": [
              "    Fuel_Type  Kms_Driven  Owner  ...  Transmission  Year  no_year\n",
              "0      Petrol       27000      0  ...        Manual  2014        6\n",
              "1      Diesel       43000      0  ...        Manual  2013        7\n",
              "2      Petrol        6900      0  ...        Manual  2017        3\n",
              "3      Petrol        5200      0  ...        Manual  2011        9\n",
              "4      Diesel       42450      0  ...        Manual  2014        6\n",
              "..        ...         ...    ...  ...           ...   ...      ...\n",
              "296    Diesel       33988      0  ...        Manual  2016        4\n",
              "297    Petrol       60000      0  ...        Manual  2015        5\n",
              "298    Petrol       87934      0  ...        Manual  2009       11\n",
              "299    Diesel        9000      0  ...        Manual  2017        3\n",
              "300    Petrol        5464      0  ...        Manual  2016        4\n",
              "\n",
              "[301 rows x 9 columns]"
            ]
          },
          "metadata": {
            "tags": []
          },
          "execution_count": 10
        }
      ]
    },
    {
      "cell_type": "code",
      "metadata": {
        "execution": {
          "iopub.status.busy": "2021-06-14T09:00:33.962881Z",
          "iopub.execute_input": "2021-06-14T09:00:33.963348Z",
          "iopub.status.idle": "2021-06-14T09:00:33.996623Z",
          "shell.execute_reply.started": "2021-06-14T09:00:33.963312Z",
          "shell.execute_reply": "2021-06-14T09:00:33.995396Z"
        },
        "trusted": true,
        "colab": {
          "base_uri": "https://localhost:8080/",
          "height": 402
        },
        "id": "GQf9PirNygHh",
        "outputId": "c1ee5b3a-999d-4a5e-d876-148465d7e7dc"
      },
      "source": [
        "final_df['Current_yr']=2020\n",
        "final_df"
      ],
      "execution_count": 11,
      "outputs": [
        {
          "output_type": "execute_result",
          "data": {
            "text/html": [
              "<div>\n",
              "<style scoped>\n",
              "    .dataframe tbody tr th:only-of-type {\n",
              "        vertical-align: middle;\n",
              "    }\n",
              "\n",
              "    .dataframe tbody tr th {\n",
              "        vertical-align: top;\n",
              "    }\n",
              "\n",
              "    .dataframe thead th {\n",
              "        text-align: right;\n",
              "    }\n",
              "</style>\n",
              "<table border=\"1\" class=\"dataframe\">\n",
              "  <thead>\n",
              "    <tr style=\"text-align: right;\">\n",
              "      <th></th>\n",
              "      <th>Fuel_Type</th>\n",
              "      <th>Kms_Driven</th>\n",
              "      <th>Owner</th>\n",
              "      <th>Present_Price</th>\n",
              "      <th>Seller_Type</th>\n",
              "      <th>Selling_Price</th>\n",
              "      <th>Transmission</th>\n",
              "      <th>Year</th>\n",
              "      <th>no_year</th>\n",
              "      <th>Current_yr</th>\n",
              "    </tr>\n",
              "  </thead>\n",
              "  <tbody>\n",
              "    <tr>\n",
              "      <th>0</th>\n",
              "      <td>Petrol</td>\n",
              "      <td>27000</td>\n",
              "      <td>0</td>\n",
              "      <td>5.59</td>\n",
              "      <td>Dealer</td>\n",
              "      <td>3.35</td>\n",
              "      <td>Manual</td>\n",
              "      <td>2014</td>\n",
              "      <td>6</td>\n",
              "      <td>2020</td>\n",
              "    </tr>\n",
              "    <tr>\n",
              "      <th>1</th>\n",
              "      <td>Diesel</td>\n",
              "      <td>43000</td>\n",
              "      <td>0</td>\n",
              "      <td>9.54</td>\n",
              "      <td>Dealer</td>\n",
              "      <td>4.75</td>\n",
              "      <td>Manual</td>\n",
              "      <td>2013</td>\n",
              "      <td>7</td>\n",
              "      <td>2020</td>\n",
              "    </tr>\n",
              "    <tr>\n",
              "      <th>2</th>\n",
              "      <td>Petrol</td>\n",
              "      <td>6900</td>\n",
              "      <td>0</td>\n",
              "      <td>9.85</td>\n",
              "      <td>Dealer</td>\n",
              "      <td>7.25</td>\n",
              "      <td>Manual</td>\n",
              "      <td>2017</td>\n",
              "      <td>3</td>\n",
              "      <td>2020</td>\n",
              "    </tr>\n",
              "    <tr>\n",
              "      <th>3</th>\n",
              "      <td>Petrol</td>\n",
              "      <td>5200</td>\n",
              "      <td>0</td>\n",
              "      <td>4.15</td>\n",
              "      <td>Dealer</td>\n",
              "      <td>2.85</td>\n",
              "      <td>Manual</td>\n",
              "      <td>2011</td>\n",
              "      <td>9</td>\n",
              "      <td>2020</td>\n",
              "    </tr>\n",
              "    <tr>\n",
              "      <th>4</th>\n",
              "      <td>Diesel</td>\n",
              "      <td>42450</td>\n",
              "      <td>0</td>\n",
              "      <td>6.87</td>\n",
              "      <td>Dealer</td>\n",
              "      <td>4.60</td>\n",
              "      <td>Manual</td>\n",
              "      <td>2014</td>\n",
              "      <td>6</td>\n",
              "      <td>2020</td>\n",
              "    </tr>\n",
              "    <tr>\n",
              "      <th>...</th>\n",
              "      <td>...</td>\n",
              "      <td>...</td>\n",
              "      <td>...</td>\n",
              "      <td>...</td>\n",
              "      <td>...</td>\n",
              "      <td>...</td>\n",
              "      <td>...</td>\n",
              "      <td>...</td>\n",
              "      <td>...</td>\n",
              "      <td>...</td>\n",
              "    </tr>\n",
              "    <tr>\n",
              "      <th>296</th>\n",
              "      <td>Diesel</td>\n",
              "      <td>33988</td>\n",
              "      <td>0</td>\n",
              "      <td>11.60</td>\n",
              "      <td>Dealer</td>\n",
              "      <td>9.50</td>\n",
              "      <td>Manual</td>\n",
              "      <td>2016</td>\n",
              "      <td>4</td>\n",
              "      <td>2020</td>\n",
              "    </tr>\n",
              "    <tr>\n",
              "      <th>297</th>\n",
              "      <td>Petrol</td>\n",
              "      <td>60000</td>\n",
              "      <td>0</td>\n",
              "      <td>5.90</td>\n",
              "      <td>Dealer</td>\n",
              "      <td>4.00</td>\n",
              "      <td>Manual</td>\n",
              "      <td>2015</td>\n",
              "      <td>5</td>\n",
              "      <td>2020</td>\n",
              "    </tr>\n",
              "    <tr>\n",
              "      <th>298</th>\n",
              "      <td>Petrol</td>\n",
              "      <td>87934</td>\n",
              "      <td>0</td>\n",
              "      <td>11.00</td>\n",
              "      <td>Dealer</td>\n",
              "      <td>3.35</td>\n",
              "      <td>Manual</td>\n",
              "      <td>2009</td>\n",
              "      <td>11</td>\n",
              "      <td>2020</td>\n",
              "    </tr>\n",
              "    <tr>\n",
              "      <th>299</th>\n",
              "      <td>Diesel</td>\n",
              "      <td>9000</td>\n",
              "      <td>0</td>\n",
              "      <td>12.50</td>\n",
              "      <td>Dealer</td>\n",
              "      <td>11.50</td>\n",
              "      <td>Manual</td>\n",
              "      <td>2017</td>\n",
              "      <td>3</td>\n",
              "      <td>2020</td>\n",
              "    </tr>\n",
              "    <tr>\n",
              "      <th>300</th>\n",
              "      <td>Petrol</td>\n",
              "      <td>5464</td>\n",
              "      <td>0</td>\n",
              "      <td>5.90</td>\n",
              "      <td>Dealer</td>\n",
              "      <td>5.30</td>\n",
              "      <td>Manual</td>\n",
              "      <td>2016</td>\n",
              "      <td>4</td>\n",
              "      <td>2020</td>\n",
              "    </tr>\n",
              "  </tbody>\n",
              "</table>\n",
              "<p>301 rows × 10 columns</p>\n",
              "</div>"
            ],
            "text/plain": [
              "    Fuel_Type  Kms_Driven  Owner  ...  Year no_year  Current_yr\n",
              "0      Petrol       27000      0  ...  2014       6        2020\n",
              "1      Diesel       43000      0  ...  2013       7        2020\n",
              "2      Petrol        6900      0  ...  2017       3        2020\n",
              "3      Petrol        5200      0  ...  2011       9        2020\n",
              "4      Diesel       42450      0  ...  2014       6        2020\n",
              "..        ...         ...    ...  ...   ...     ...         ...\n",
              "296    Diesel       33988      0  ...  2016       4        2020\n",
              "297    Petrol       60000      0  ...  2015       5        2020\n",
              "298    Petrol       87934      0  ...  2009      11        2020\n",
              "299    Diesel        9000      0  ...  2017       3        2020\n",
              "300    Petrol        5464      0  ...  2016       4        2020\n",
              "\n",
              "[301 rows x 10 columns]"
            ]
          },
          "metadata": {
            "tags": []
          },
          "execution_count": 11
        }
      ]
    },
    {
      "cell_type": "code",
      "metadata": {
        "execution": {
          "iopub.status.busy": "2021-06-14T09:00:33.998081Z",
          "iopub.execute_input": "2021-06-14T09:00:33.998420Z",
          "iopub.status.idle": "2021-06-14T09:00:34.031602Z",
          "shell.execute_reply.started": "2021-06-14T09:00:33.998389Z",
          "shell.execute_reply": "2021-06-14T09:00:34.030430Z"
        },
        "trusted": true,
        "colab": {
          "base_uri": "https://localhost:8080/",
          "height": 402
        },
        "id": "EJiWRb57ygHh",
        "outputId": "042ce6ba-65d7-4d3e-f6d8-9cf20d52b0af"
      },
      "source": [
        "final_df['no_year'] = final_df['Year']\n",
        "final_df"
      ],
      "execution_count": 12,
      "outputs": [
        {
          "output_type": "execute_result",
          "data": {
            "text/html": [
              "<div>\n",
              "<style scoped>\n",
              "    .dataframe tbody tr th:only-of-type {\n",
              "        vertical-align: middle;\n",
              "    }\n",
              "\n",
              "    .dataframe tbody tr th {\n",
              "        vertical-align: top;\n",
              "    }\n",
              "\n",
              "    .dataframe thead th {\n",
              "        text-align: right;\n",
              "    }\n",
              "</style>\n",
              "<table border=\"1\" class=\"dataframe\">\n",
              "  <thead>\n",
              "    <tr style=\"text-align: right;\">\n",
              "      <th></th>\n",
              "      <th>Fuel_Type</th>\n",
              "      <th>Kms_Driven</th>\n",
              "      <th>Owner</th>\n",
              "      <th>Present_Price</th>\n",
              "      <th>Seller_Type</th>\n",
              "      <th>Selling_Price</th>\n",
              "      <th>Transmission</th>\n",
              "      <th>Year</th>\n",
              "      <th>no_year</th>\n",
              "      <th>Current_yr</th>\n",
              "    </tr>\n",
              "  </thead>\n",
              "  <tbody>\n",
              "    <tr>\n",
              "      <th>0</th>\n",
              "      <td>Petrol</td>\n",
              "      <td>27000</td>\n",
              "      <td>0</td>\n",
              "      <td>5.59</td>\n",
              "      <td>Dealer</td>\n",
              "      <td>3.35</td>\n",
              "      <td>Manual</td>\n",
              "      <td>2014</td>\n",
              "      <td>2014</td>\n",
              "      <td>2020</td>\n",
              "    </tr>\n",
              "    <tr>\n",
              "      <th>1</th>\n",
              "      <td>Diesel</td>\n",
              "      <td>43000</td>\n",
              "      <td>0</td>\n",
              "      <td>9.54</td>\n",
              "      <td>Dealer</td>\n",
              "      <td>4.75</td>\n",
              "      <td>Manual</td>\n",
              "      <td>2013</td>\n",
              "      <td>2013</td>\n",
              "      <td>2020</td>\n",
              "    </tr>\n",
              "    <tr>\n",
              "      <th>2</th>\n",
              "      <td>Petrol</td>\n",
              "      <td>6900</td>\n",
              "      <td>0</td>\n",
              "      <td>9.85</td>\n",
              "      <td>Dealer</td>\n",
              "      <td>7.25</td>\n",
              "      <td>Manual</td>\n",
              "      <td>2017</td>\n",
              "      <td>2017</td>\n",
              "      <td>2020</td>\n",
              "    </tr>\n",
              "    <tr>\n",
              "      <th>3</th>\n",
              "      <td>Petrol</td>\n",
              "      <td>5200</td>\n",
              "      <td>0</td>\n",
              "      <td>4.15</td>\n",
              "      <td>Dealer</td>\n",
              "      <td>2.85</td>\n",
              "      <td>Manual</td>\n",
              "      <td>2011</td>\n",
              "      <td>2011</td>\n",
              "      <td>2020</td>\n",
              "    </tr>\n",
              "    <tr>\n",
              "      <th>4</th>\n",
              "      <td>Diesel</td>\n",
              "      <td>42450</td>\n",
              "      <td>0</td>\n",
              "      <td>6.87</td>\n",
              "      <td>Dealer</td>\n",
              "      <td>4.60</td>\n",
              "      <td>Manual</td>\n",
              "      <td>2014</td>\n",
              "      <td>2014</td>\n",
              "      <td>2020</td>\n",
              "    </tr>\n",
              "    <tr>\n",
              "      <th>...</th>\n",
              "      <td>...</td>\n",
              "      <td>...</td>\n",
              "      <td>...</td>\n",
              "      <td>...</td>\n",
              "      <td>...</td>\n",
              "      <td>...</td>\n",
              "      <td>...</td>\n",
              "      <td>...</td>\n",
              "      <td>...</td>\n",
              "      <td>...</td>\n",
              "    </tr>\n",
              "    <tr>\n",
              "      <th>296</th>\n",
              "      <td>Diesel</td>\n",
              "      <td>33988</td>\n",
              "      <td>0</td>\n",
              "      <td>11.60</td>\n",
              "      <td>Dealer</td>\n",
              "      <td>9.50</td>\n",
              "      <td>Manual</td>\n",
              "      <td>2016</td>\n",
              "      <td>2016</td>\n",
              "      <td>2020</td>\n",
              "    </tr>\n",
              "    <tr>\n",
              "      <th>297</th>\n",
              "      <td>Petrol</td>\n",
              "      <td>60000</td>\n",
              "      <td>0</td>\n",
              "      <td>5.90</td>\n",
              "      <td>Dealer</td>\n",
              "      <td>4.00</td>\n",
              "      <td>Manual</td>\n",
              "      <td>2015</td>\n",
              "      <td>2015</td>\n",
              "      <td>2020</td>\n",
              "    </tr>\n",
              "    <tr>\n",
              "      <th>298</th>\n",
              "      <td>Petrol</td>\n",
              "      <td>87934</td>\n",
              "      <td>0</td>\n",
              "      <td>11.00</td>\n",
              "      <td>Dealer</td>\n",
              "      <td>3.35</td>\n",
              "      <td>Manual</td>\n",
              "      <td>2009</td>\n",
              "      <td>2009</td>\n",
              "      <td>2020</td>\n",
              "    </tr>\n",
              "    <tr>\n",
              "      <th>299</th>\n",
              "      <td>Diesel</td>\n",
              "      <td>9000</td>\n",
              "      <td>0</td>\n",
              "      <td>12.50</td>\n",
              "      <td>Dealer</td>\n",
              "      <td>11.50</td>\n",
              "      <td>Manual</td>\n",
              "      <td>2017</td>\n",
              "      <td>2017</td>\n",
              "      <td>2020</td>\n",
              "    </tr>\n",
              "    <tr>\n",
              "      <th>300</th>\n",
              "      <td>Petrol</td>\n",
              "      <td>5464</td>\n",
              "      <td>0</td>\n",
              "      <td>5.90</td>\n",
              "      <td>Dealer</td>\n",
              "      <td>5.30</td>\n",
              "      <td>Manual</td>\n",
              "      <td>2016</td>\n",
              "      <td>2016</td>\n",
              "      <td>2020</td>\n",
              "    </tr>\n",
              "  </tbody>\n",
              "</table>\n",
              "<p>301 rows × 10 columns</p>\n",
              "</div>"
            ],
            "text/plain": [
              "    Fuel_Type  Kms_Driven  Owner  ...  Year no_year  Current_yr\n",
              "0      Petrol       27000      0  ...  2014    2014        2020\n",
              "1      Diesel       43000      0  ...  2013    2013        2020\n",
              "2      Petrol        6900      0  ...  2017    2017        2020\n",
              "3      Petrol        5200      0  ...  2011    2011        2020\n",
              "4      Diesel       42450      0  ...  2014    2014        2020\n",
              "..        ...         ...    ...  ...   ...     ...         ...\n",
              "296    Diesel       33988      0  ...  2016    2016        2020\n",
              "297    Petrol       60000      0  ...  2015    2015        2020\n",
              "298    Petrol       87934      0  ...  2009    2009        2020\n",
              "299    Diesel        9000      0  ...  2017    2017        2020\n",
              "300    Petrol        5464      0  ...  2016    2016        2020\n",
              "\n",
              "[301 rows x 10 columns]"
            ]
          },
          "metadata": {
            "tags": []
          },
          "execution_count": 12
        }
      ]
    },
    {
      "cell_type": "code",
      "metadata": {
        "execution": {
          "iopub.status.busy": "2021-06-14T09:00:34.033097Z",
          "iopub.execute_input": "2021-06-14T09:00:34.033759Z",
          "iopub.status.idle": "2021-06-14T09:00:34.063040Z",
          "shell.execute_reply.started": "2021-06-14T09:00:34.033705Z",
          "shell.execute_reply": "2021-06-14T09:00:34.061720Z"
        },
        "trusted": true,
        "colab": {
          "base_uri": "https://localhost:8080/",
          "height": 402
        },
        "id": "J-QDZt1OygHi",
        "outputId": "d14d651a-c156-4c0f-b4a7-7c1342c77443"
      },
      "source": [
        "final_df.drop([\"Current_yr\",\"Year\"],axis =1, inplace = True)\n",
        "final_df"
      ],
      "execution_count": 13,
      "outputs": [
        {
          "output_type": "execute_result",
          "data": {
            "text/html": [
              "<div>\n",
              "<style scoped>\n",
              "    .dataframe tbody tr th:only-of-type {\n",
              "        vertical-align: middle;\n",
              "    }\n",
              "\n",
              "    .dataframe tbody tr th {\n",
              "        vertical-align: top;\n",
              "    }\n",
              "\n",
              "    .dataframe thead th {\n",
              "        text-align: right;\n",
              "    }\n",
              "</style>\n",
              "<table border=\"1\" class=\"dataframe\">\n",
              "  <thead>\n",
              "    <tr style=\"text-align: right;\">\n",
              "      <th></th>\n",
              "      <th>Fuel_Type</th>\n",
              "      <th>Kms_Driven</th>\n",
              "      <th>Owner</th>\n",
              "      <th>Present_Price</th>\n",
              "      <th>Seller_Type</th>\n",
              "      <th>Selling_Price</th>\n",
              "      <th>Transmission</th>\n",
              "      <th>no_year</th>\n",
              "    </tr>\n",
              "  </thead>\n",
              "  <tbody>\n",
              "    <tr>\n",
              "      <th>0</th>\n",
              "      <td>Petrol</td>\n",
              "      <td>27000</td>\n",
              "      <td>0</td>\n",
              "      <td>5.59</td>\n",
              "      <td>Dealer</td>\n",
              "      <td>3.35</td>\n",
              "      <td>Manual</td>\n",
              "      <td>2014</td>\n",
              "    </tr>\n",
              "    <tr>\n",
              "      <th>1</th>\n",
              "      <td>Diesel</td>\n",
              "      <td>43000</td>\n",
              "      <td>0</td>\n",
              "      <td>9.54</td>\n",
              "      <td>Dealer</td>\n",
              "      <td>4.75</td>\n",
              "      <td>Manual</td>\n",
              "      <td>2013</td>\n",
              "    </tr>\n",
              "    <tr>\n",
              "      <th>2</th>\n",
              "      <td>Petrol</td>\n",
              "      <td>6900</td>\n",
              "      <td>0</td>\n",
              "      <td>9.85</td>\n",
              "      <td>Dealer</td>\n",
              "      <td>7.25</td>\n",
              "      <td>Manual</td>\n",
              "      <td>2017</td>\n",
              "    </tr>\n",
              "    <tr>\n",
              "      <th>3</th>\n",
              "      <td>Petrol</td>\n",
              "      <td>5200</td>\n",
              "      <td>0</td>\n",
              "      <td>4.15</td>\n",
              "      <td>Dealer</td>\n",
              "      <td>2.85</td>\n",
              "      <td>Manual</td>\n",
              "      <td>2011</td>\n",
              "    </tr>\n",
              "    <tr>\n",
              "      <th>4</th>\n",
              "      <td>Diesel</td>\n",
              "      <td>42450</td>\n",
              "      <td>0</td>\n",
              "      <td>6.87</td>\n",
              "      <td>Dealer</td>\n",
              "      <td>4.60</td>\n",
              "      <td>Manual</td>\n",
              "      <td>2014</td>\n",
              "    </tr>\n",
              "    <tr>\n",
              "      <th>...</th>\n",
              "      <td>...</td>\n",
              "      <td>...</td>\n",
              "      <td>...</td>\n",
              "      <td>...</td>\n",
              "      <td>...</td>\n",
              "      <td>...</td>\n",
              "      <td>...</td>\n",
              "      <td>...</td>\n",
              "    </tr>\n",
              "    <tr>\n",
              "      <th>296</th>\n",
              "      <td>Diesel</td>\n",
              "      <td>33988</td>\n",
              "      <td>0</td>\n",
              "      <td>11.60</td>\n",
              "      <td>Dealer</td>\n",
              "      <td>9.50</td>\n",
              "      <td>Manual</td>\n",
              "      <td>2016</td>\n",
              "    </tr>\n",
              "    <tr>\n",
              "      <th>297</th>\n",
              "      <td>Petrol</td>\n",
              "      <td>60000</td>\n",
              "      <td>0</td>\n",
              "      <td>5.90</td>\n",
              "      <td>Dealer</td>\n",
              "      <td>4.00</td>\n",
              "      <td>Manual</td>\n",
              "      <td>2015</td>\n",
              "    </tr>\n",
              "    <tr>\n",
              "      <th>298</th>\n",
              "      <td>Petrol</td>\n",
              "      <td>87934</td>\n",
              "      <td>0</td>\n",
              "      <td>11.00</td>\n",
              "      <td>Dealer</td>\n",
              "      <td>3.35</td>\n",
              "      <td>Manual</td>\n",
              "      <td>2009</td>\n",
              "    </tr>\n",
              "    <tr>\n",
              "      <th>299</th>\n",
              "      <td>Diesel</td>\n",
              "      <td>9000</td>\n",
              "      <td>0</td>\n",
              "      <td>12.50</td>\n",
              "      <td>Dealer</td>\n",
              "      <td>11.50</td>\n",
              "      <td>Manual</td>\n",
              "      <td>2017</td>\n",
              "    </tr>\n",
              "    <tr>\n",
              "      <th>300</th>\n",
              "      <td>Petrol</td>\n",
              "      <td>5464</td>\n",
              "      <td>0</td>\n",
              "      <td>5.90</td>\n",
              "      <td>Dealer</td>\n",
              "      <td>5.30</td>\n",
              "      <td>Manual</td>\n",
              "      <td>2016</td>\n",
              "    </tr>\n",
              "  </tbody>\n",
              "</table>\n",
              "<p>301 rows × 8 columns</p>\n",
              "</div>"
            ],
            "text/plain": [
              "    Fuel_Type  Kms_Driven  Owner  ...  Selling_Price Transmission  no_year\n",
              "0      Petrol       27000      0  ...           3.35       Manual     2014\n",
              "1      Diesel       43000      0  ...           4.75       Manual     2013\n",
              "2      Petrol        6900      0  ...           7.25       Manual     2017\n",
              "3      Petrol        5200      0  ...           2.85       Manual     2011\n",
              "4      Diesel       42450      0  ...           4.60       Manual     2014\n",
              "..        ...         ...    ...  ...            ...          ...      ...\n",
              "296    Diesel       33988      0  ...           9.50       Manual     2016\n",
              "297    Petrol       60000      0  ...           4.00       Manual     2015\n",
              "298    Petrol       87934      0  ...           3.35       Manual     2009\n",
              "299    Diesel        9000      0  ...          11.50       Manual     2017\n",
              "300    Petrol        5464      0  ...           5.30       Manual     2016\n",
              "\n",
              "[301 rows x 8 columns]"
            ]
          },
          "metadata": {
            "tags": []
          },
          "execution_count": 13
        }
      ]
    },
    {
      "cell_type": "code",
      "metadata": {
        "execution": {
          "iopub.status.busy": "2021-06-14T09:00:34.064787Z",
          "iopub.execute_input": "2021-06-14T09:00:34.065224Z",
          "iopub.status.idle": "2021-06-14T09:00:34.102619Z",
          "shell.execute_reply.started": "2021-06-14T09:00:34.065174Z",
          "shell.execute_reply": "2021-06-14T09:00:34.101529Z"
        },
        "trusted": true,
        "colab": {
          "base_uri": "https://localhost:8080/",
          "height": 402
        },
        "id": "xLQ-iESYygHi",
        "outputId": "0d5cbd9f-53be-4e50-c7bd-170f14c263c7"
      },
      "source": [
        "final_df = pd.get_dummies(final_df,drop_first= True)\n",
        "final_df"
      ],
      "execution_count": 14,
      "outputs": [
        {
          "output_type": "execute_result",
          "data": {
            "text/html": [
              "<div>\n",
              "<style scoped>\n",
              "    .dataframe tbody tr th:only-of-type {\n",
              "        vertical-align: middle;\n",
              "    }\n",
              "\n",
              "    .dataframe tbody tr th {\n",
              "        vertical-align: top;\n",
              "    }\n",
              "\n",
              "    .dataframe thead th {\n",
              "        text-align: right;\n",
              "    }\n",
              "</style>\n",
              "<table border=\"1\" class=\"dataframe\">\n",
              "  <thead>\n",
              "    <tr style=\"text-align: right;\">\n",
              "      <th></th>\n",
              "      <th>Kms_Driven</th>\n",
              "      <th>Owner</th>\n",
              "      <th>Present_Price</th>\n",
              "      <th>Selling_Price</th>\n",
              "      <th>no_year</th>\n",
              "      <th>Fuel_Type_Diesel</th>\n",
              "      <th>Fuel_Type_Petrol</th>\n",
              "      <th>Seller_Type_Individual</th>\n",
              "      <th>Transmission_Manual</th>\n",
              "    </tr>\n",
              "  </thead>\n",
              "  <tbody>\n",
              "    <tr>\n",
              "      <th>0</th>\n",
              "      <td>27000</td>\n",
              "      <td>0</td>\n",
              "      <td>5.59</td>\n",
              "      <td>3.35</td>\n",
              "      <td>2014</td>\n",
              "      <td>0</td>\n",
              "      <td>1</td>\n",
              "      <td>0</td>\n",
              "      <td>1</td>\n",
              "    </tr>\n",
              "    <tr>\n",
              "      <th>1</th>\n",
              "      <td>43000</td>\n",
              "      <td>0</td>\n",
              "      <td>9.54</td>\n",
              "      <td>4.75</td>\n",
              "      <td>2013</td>\n",
              "      <td>1</td>\n",
              "      <td>0</td>\n",
              "      <td>0</td>\n",
              "      <td>1</td>\n",
              "    </tr>\n",
              "    <tr>\n",
              "      <th>2</th>\n",
              "      <td>6900</td>\n",
              "      <td>0</td>\n",
              "      <td>9.85</td>\n",
              "      <td>7.25</td>\n",
              "      <td>2017</td>\n",
              "      <td>0</td>\n",
              "      <td>1</td>\n",
              "      <td>0</td>\n",
              "      <td>1</td>\n",
              "    </tr>\n",
              "    <tr>\n",
              "      <th>3</th>\n",
              "      <td>5200</td>\n",
              "      <td>0</td>\n",
              "      <td>4.15</td>\n",
              "      <td>2.85</td>\n",
              "      <td>2011</td>\n",
              "      <td>0</td>\n",
              "      <td>1</td>\n",
              "      <td>0</td>\n",
              "      <td>1</td>\n",
              "    </tr>\n",
              "    <tr>\n",
              "      <th>4</th>\n",
              "      <td>42450</td>\n",
              "      <td>0</td>\n",
              "      <td>6.87</td>\n",
              "      <td>4.60</td>\n",
              "      <td>2014</td>\n",
              "      <td>1</td>\n",
              "      <td>0</td>\n",
              "      <td>0</td>\n",
              "      <td>1</td>\n",
              "    </tr>\n",
              "    <tr>\n",
              "      <th>...</th>\n",
              "      <td>...</td>\n",
              "      <td>...</td>\n",
              "      <td>...</td>\n",
              "      <td>...</td>\n",
              "      <td>...</td>\n",
              "      <td>...</td>\n",
              "      <td>...</td>\n",
              "      <td>...</td>\n",
              "      <td>...</td>\n",
              "    </tr>\n",
              "    <tr>\n",
              "      <th>296</th>\n",
              "      <td>33988</td>\n",
              "      <td>0</td>\n",
              "      <td>11.60</td>\n",
              "      <td>9.50</td>\n",
              "      <td>2016</td>\n",
              "      <td>1</td>\n",
              "      <td>0</td>\n",
              "      <td>0</td>\n",
              "      <td>1</td>\n",
              "    </tr>\n",
              "    <tr>\n",
              "      <th>297</th>\n",
              "      <td>60000</td>\n",
              "      <td>0</td>\n",
              "      <td>5.90</td>\n",
              "      <td>4.00</td>\n",
              "      <td>2015</td>\n",
              "      <td>0</td>\n",
              "      <td>1</td>\n",
              "      <td>0</td>\n",
              "      <td>1</td>\n",
              "    </tr>\n",
              "    <tr>\n",
              "      <th>298</th>\n",
              "      <td>87934</td>\n",
              "      <td>0</td>\n",
              "      <td>11.00</td>\n",
              "      <td>3.35</td>\n",
              "      <td>2009</td>\n",
              "      <td>0</td>\n",
              "      <td>1</td>\n",
              "      <td>0</td>\n",
              "      <td>1</td>\n",
              "    </tr>\n",
              "    <tr>\n",
              "      <th>299</th>\n",
              "      <td>9000</td>\n",
              "      <td>0</td>\n",
              "      <td>12.50</td>\n",
              "      <td>11.50</td>\n",
              "      <td>2017</td>\n",
              "      <td>1</td>\n",
              "      <td>0</td>\n",
              "      <td>0</td>\n",
              "      <td>1</td>\n",
              "    </tr>\n",
              "    <tr>\n",
              "      <th>300</th>\n",
              "      <td>5464</td>\n",
              "      <td>0</td>\n",
              "      <td>5.90</td>\n",
              "      <td>5.30</td>\n",
              "      <td>2016</td>\n",
              "      <td>0</td>\n",
              "      <td>1</td>\n",
              "      <td>0</td>\n",
              "      <td>1</td>\n",
              "    </tr>\n",
              "  </tbody>\n",
              "</table>\n",
              "<p>301 rows × 9 columns</p>\n",
              "</div>"
            ],
            "text/plain": [
              "     Kms_Driven  Owner  ...  Seller_Type_Individual  Transmission_Manual\n",
              "0         27000      0  ...                       0                    1\n",
              "1         43000      0  ...                       0                    1\n",
              "2          6900      0  ...                       0                    1\n",
              "3          5200      0  ...                       0                    1\n",
              "4         42450      0  ...                       0                    1\n",
              "..          ...    ...  ...                     ...                  ...\n",
              "296       33988      0  ...                       0                    1\n",
              "297       60000      0  ...                       0                    1\n",
              "298       87934      0  ...                       0                    1\n",
              "299        9000      0  ...                       0                    1\n",
              "300        5464      0  ...                       0                    1\n",
              "\n",
              "[301 rows x 9 columns]"
            ]
          },
          "metadata": {
            "tags": []
          },
          "execution_count": 14
        }
      ]
    },
    {
      "cell_type": "code",
      "metadata": {
        "execution": {
          "iopub.status.busy": "2021-06-14T09:00:34.104147Z",
          "iopub.execute_input": "2021-06-14T09:00:34.104564Z",
          "iopub.status.idle": "2021-06-14T09:00:47.783009Z",
          "shell.execute_reply.started": "2021-06-14T09:00:34.104521Z",
          "shell.execute_reply": "2021-06-14T09:00:47.781959Z"
        },
        "trusted": true,
        "colab": {
          "base_uri": "https://localhost:8080/",
          "height": 1000
        },
        "id": "buQNxBU-ygHi",
        "outputId": "347c6511-e6ea-48b8-f236-0c55518e8528"
      },
      "source": [
        "import seaborn as sns\n",
        "sns.pairplot(final_df)"
      ],
      "execution_count": 15,
      "outputs": [
        {
          "output_type": "execute_result",
          "data": {
            "text/plain": [
              "<seaborn.axisgrid.PairGrid at 0x7efd8807b410>"
            ]
          },
          "metadata": {
            "tags": []
          },
          "execution_count": 15
        },
        {
          "output_type": "display_data",
          "data": {
            "image/png": "[encoded data removed]",
            "text/plain": [
              "<Figure size 1620x1620 with 90 Axes>"
            ]
          },
          "metadata": {
            "tags": [],
            "needs_background": "light"
          }
        }
      ]
    },
    {
      "cell_type": "code",
      "metadata": {
        "execution": {
          "iopub.status.busy": "2021-06-14T09:00:47.784482Z",
          "iopub.execute_input": "2021-06-14T09:00:47.784860Z",
          "iopub.status.idle": "2021-06-14T09:00:47.791068Z",
          "shell.execute_reply.started": "2021-06-14T09:00:47.784820Z",
          "shell.execute_reply": "2021-06-14T09:00:47.790053Z"
        },
        "trusted": true,
        "id": "zMSak4iKygHj"
      },
      "source": [
        "import matplotlib.pyplot as plt\n",
        "%matplotlib inline"
      ],
      "execution_count": 16,
      "outputs": []
    },
    {
      "cell_type": "code",
      "metadata": {
        "execution": {
          "iopub.status.busy": "2021-06-14T09:00:47.792380Z",
          "iopub.execute_input": "2021-06-14T09:00:47.792914Z",
          "iopub.status.idle": "2021-06-14T09:00:48.458840Z",
          "shell.execute_reply.started": "2021-06-14T09:00:47.792874Z",
          "shell.execute_reply": "2021-06-14T09:00:48.457857Z"
        },
        "trusted": true,
        "colab": {
          "base_uri": "https://localhost:8080/",
          "height": 1000
        },
        "id": "facJb33kygHj",
        "outputId": "acfe41db-3d9b-4877-cbbd-f99a4be89333"
      },
      "source": [
        "corr_mat = final_df.corr()\n",
        "top_corr_features = corr_mat.index\n",
        "plt.figure(figsize = (20,20))\n",
        "g = sns.heatmap(final_df[top_corr_features].corr(),annot = True,cmap = \"RdYlGn\")"
      ],
      "execution_count": 17,
      "outputs": [
        {
          "output_type": "display_data",
          "data": {
            "image/png": "[encoded data removed]",
            "text/plain": [
              "<Figure size 1440x1440 with 2 Axes>"
            ]
          },
          "metadata": {
            "tags": [],
            "needs_background": "light"
          }
        }
      ]
    },
    {
      "cell_type": "code",
      "metadata": {
        "execution": {
          "iopub.status.busy": "2021-06-14T09:00:48.460170Z",
          "iopub.execute_input": "2021-06-14T09:00:48.460740Z",
          "iopub.status.idle": "2021-06-14T09:00:48.468137Z",
          "shell.execute_reply.started": "2021-06-14T09:00:48.460697Z",
          "shell.execute_reply": "2021-06-14T09:00:48.467022Z"
        },
        "trusted": true,
        "id": "Bc5Lkm3qygHj"
      },
      "source": [
        "X = final_df[final_df.columns.difference(['Selling_Price'])]\n",
        "y = final_df[\"Selling_Price\"]"
      ],
      "execution_count": 18,
      "outputs": []
    },
    {
      "cell_type": "code",
      "metadata": {
        "execution": {
          "iopub.status.busy": "2021-06-14T09:00:48.469159Z",
          "iopub.execute_input": "2021-06-14T09:00:48.469558Z",
          "iopub.status.idle": "2021-06-14T09:00:48.489632Z",
          "shell.execute_reply.started": "2021-06-14T09:00:48.469518Z",
          "shell.execute_reply": "2021-06-14T09:00:48.488651Z"
        },
        "trusted": true,
        "colab": {
          "base_uri": "https://localhost:8080/",
          "height": 195
        },
        "id": "8yEBWrQRygHj",
        "outputId": "50f00426-4102-45c9-f212-2565afca4939"
      },
      "source": [
        "X.head()"
      ],
      "execution_count": 19,
      "outputs": [
        {
          "output_type": "execute_result",
          "data": {
            "text/html": [
              "<div>\n",
              "<style scoped>\n",
              "    .dataframe tbody tr th:only-of-type {\n",
              "        vertical-align: middle;\n",
              "    }\n",
              "\n",
              "    .dataframe tbody tr th {\n",
              "        vertical-align: top;\n",
              "    }\n",
              "\n",
              "    .dataframe thead th {\n",
              "        text-align: right;\n",
              "    }\n",
              "</style>\n",
              "<table border=\"1\" class=\"dataframe\">\n",
              "  <thead>\n",
              "    <tr style=\"text-align: right;\">\n",
              "      <th></th>\n",
              "      <th>Fuel_Type_Diesel</th>\n",
              "      <th>Fuel_Type_Petrol</th>\n",
              "      <th>Kms_Driven</th>\n",
              "      <th>Owner</th>\n",
              "      <th>Present_Price</th>\n",
              "      <th>Seller_Type_Individual</th>\n",
              "      <th>Transmission_Manual</th>\n",
              "      <th>no_year</th>\n",
              "    </tr>\n",
              "  </thead>\n",
              "  <tbody>\n",
              "    <tr>\n",
              "      <th>0</th>\n",
              "      <td>0</td>\n",
              "      <td>1</td>\n",
              "      <td>27000</td>\n",
              "      <td>0</td>\n",
              "      <td>5.59</td>\n",
              "      <td>0</td>\n",
              "      <td>1</td>\n",
              "      <td>2014</td>\n",
              "    </tr>\n",
              "    <tr>\n",
              "      <th>1</th>\n",
              "      <td>1</td>\n",
              "      <td>0</td>\n",
              "      <td>43000</td>\n",
              "      <td>0</td>\n",
              "      <td>9.54</td>\n",
              "      <td>0</td>\n",
              "      <td>1</td>\n",
              "      <td>2013</td>\n",
              "    </tr>\n",
              "    <tr>\n",
              "      <th>2</th>\n",
              "      <td>0</td>\n",
              "      <td>1</td>\n",
              "      <td>6900</td>\n",
              "      <td>0</td>\n",
              "      <td>9.85</td>\n",
              "      <td>0</td>\n",
              "      <td>1</td>\n",
              "      <td>2017</td>\n",
              "    </tr>\n",
              "    <tr>\n",
              "      <th>3</th>\n",
              "      <td>0</td>\n",
              "      <td>1</td>\n",
              "      <td>5200</td>\n",
              "      <td>0</td>\n",
              "      <td>4.15</td>\n",
              "      <td>0</td>\n",
              "      <td>1</td>\n",
              "      <td>2011</td>\n",
              "    </tr>\n",
              "    <tr>\n",
              "      <th>4</th>\n",
              "      <td>1</td>\n",
              "      <td>0</td>\n",
              "      <td>42450</td>\n",
              "      <td>0</td>\n",
              "      <td>6.87</td>\n",
              "      <td>0</td>\n",
              "      <td>1</td>\n",
              "      <td>2014</td>\n",
              "    </tr>\n",
              "  </tbody>\n",
              "</table>\n",
              "</div>"
            ],
            "text/plain": [
              "   Fuel_Type_Diesel  Fuel_Type_Petrol  ...  Transmission_Manual  no_year\n",
              "0                 0                 1  ...                    1     2014\n",
              "1                 1                 0  ...                    1     2013\n",
              "2                 0                 1  ...                    1     2017\n",
              "3                 0                 1  ...                    1     2011\n",
              "4                 1                 0  ...                    1     2014\n",
              "\n",
              "[5 rows x 8 columns]"
            ]
          },
          "metadata": {
            "tags": []
          },
          "execution_count": 19
        }
      ]
    },
    {
      "cell_type": "code",
      "metadata": {
        "execution": {
          "iopub.status.busy": "2021-06-14T09:00:48.490831Z",
          "iopub.execute_input": "2021-06-14T09:00:48.491456Z",
          "iopub.status.idle": "2021-06-14T09:00:48.506517Z",
          "shell.execute_reply.started": "2021-06-14T09:00:48.491395Z",
          "shell.execute_reply": "2021-06-14T09:00:48.505331Z"
        },
        "trusted": true,
        "colab": {
          "base_uri": "https://localhost:8080/"
        },
        "id": "Bc_pgpkrygHk",
        "outputId": "77f1e710-32dc-4b07-82d3-af7e0fda5cd0"
      },
      "source": [
        "y.head()"
      ],
      "execution_count": 20,
      "outputs": [
        {
          "output_type": "execute_result",
          "data": {
            "text/plain": [
              "0    3.35\n",
              "1    4.75\n",
              "2    7.25\n",
              "3    2.85\n",
              "4    4.60\n",
              "Name: Selling_Price, dtype: float64"
            ]
          },
          "metadata": {
            "tags": []
          },
          "execution_count": 20
        }
      ]
    },
    {
      "cell_type": "code",
      "metadata": {
        "execution": {
          "iopub.status.busy": "2021-06-14T09:00:48.507998Z",
          "iopub.execute_input": "2021-06-14T09:00:48.508712Z",
          "iopub.status.idle": "2021-06-14T09:00:49.104697Z",
          "shell.execute_reply.started": "2021-06-14T09:00:48.508665Z",
          "shell.execute_reply": "2021-06-14T09:00:49.103465Z"
        },
        "trusted": true,
        "colab": {
          "base_uri": "https://localhost:8080/"
        },
        "id": "awT6P5ReygHk",
        "outputId": "2624e537-afd1-4bc3-c27a-aab9800b8995"
      },
      "source": [
        "from sklearn.ensemble import ExtraTreesRegressor\n",
        "model = ExtraTreesRegressor()\n",
        "model.fit(X,y)\n",
        "print(*list(zip(X.columns,model.feature_importances_)),sep=\"\\n\")"
      ],
      "execution_count": 21,
      "outputs": [
        {
          "output_type": "stream",
          "text": [
            "('Fuel_Type_Diesel', 0.22570503944090983)\n",
            "('Fuel_Type_Petrol', 0.007934264646387043)\n",
            "('Kms_Driven', 0.04132615664978018)\n",
            "('Owner', 0.0004312608556736469)\n",
            "('Present_Price', 0.39072863432025917)\n",
            "('Seller_Type_Individual', 0.12404135881853891)\n",
            "('Transmission_Manual', 0.13030498955893471)\n",
            "('no_year', 0.07952829570951647)\n"
          ],
          "name": "stdout"
        }
      ]
    },
    {
      "cell_type": "code",
      "metadata": {
        "execution": {
          "iopub.status.busy": "2021-06-14T09:00:49.106179Z",
          "iopub.execute_input": "2021-06-14T09:00:49.106590Z",
          "iopub.status.idle": "2021-06-14T09:00:49.273429Z",
          "shell.execute_reply.started": "2021-06-14T09:00:49.106546Z",
          "shell.execute_reply": "2021-06-14T09:00:49.272320Z"
        },
        "trusted": true,
        "colab": {
          "base_uri": "https://localhost:8080/",
          "height": 265
        },
        "id": "RTf9Zki6ygHk",
        "outputId": "24fcd729-7b39-47b8-8f19-3e23754b5ded"
      },
      "source": [
        "top_features = pd.Series(model.feature_importances_,index = X.columns)\n",
        "top_5_features = top_features.nlargest(5).plot(kind = \"barh\")"
      ],
      "execution_count": 22,
      "outputs": [
        {
          "output_type": "display_data",
          "data": {
            "image/png": "[encoded data removed]",
            "text/plain": [
              "<Figure size 432x288 with 1 Axes>"
            ]
          },
          "metadata": {
            "tags": [],
            "needs_background": "light"
          }
        }
      ]
    },
    {
      "cell_type": "code",
      "metadata": {
        "execution": {
          "iopub.status.busy": "2021-06-14T09:00:49.274888Z",
          "iopub.execute_input": "2021-06-14T09:00:49.275273Z",
          "iopub.status.idle": "2021-06-14T09:00:49.283888Z",
          "shell.execute_reply.started": "2021-06-14T09:00:49.275229Z",
          "shell.execute_reply": "2021-06-14T09:00:49.282025Z"
        },
        "trusted": true,
        "id": "hmFUOuKZygHk"
      },
      "source": [
        "from sklearn.model_selection import train_test_split\n",
        "\n",
        "X_train,X_test,y_train,y_test = train_test_split(X,y,test_size = 0.2)"
      ],
      "execution_count": 23,
      "outputs": []
    },
    {
      "cell_type": "code",
      "metadata": {
        "execution": {
          "iopub.status.busy": "2021-06-14T09:00:49.285238Z",
          "iopub.execute_input": "2021-06-14T09:00:49.285542Z",
          "iopub.status.idle": "2021-06-14T09:00:49.297902Z",
          "shell.execute_reply.started": "2021-06-14T09:00:49.285511Z",
          "shell.execute_reply": "2021-06-14T09:00:49.296676Z"
        },
        "trusted": true,
        "id": "bUB7uc9xygHl"
      },
      "source": [
        "from sklearn.model_selection import RandomizedSearchCV\n"
      ],
      "execution_count": 24,
      "outputs": []
    },
    {
      "cell_type": "code",
      "metadata": {
        "execution": {
          "iopub.status.busy": "2021-06-14T09:00:49.301678Z",
          "iopub.execute_input": "2021-06-14T09:00:49.302243Z",
          "iopub.status.idle": "2021-06-14T09:00:49.312704Z",
          "shell.execute_reply.started": "2021-06-14T09:00:49.302207Z",
          "shell.execute_reply": "2021-06-14T09:00:49.311543Z"
        },
        "trusted": true,
        "id": "dAGEQCu3ygHl"
      },
      "source": [
        "## n_estimators is the  no of trees in the fores\n",
        "n_estimators = [int(x) for x in np.linspace(start = 100, stop = 1200, num =12, dtype = np.int32)]\n",
        "## max_features denotes the no of features to look for the best split\n",
        "max_features = ['auto', 'sqrt']\n",
        "## max_depth is the maximum no of levels a tree can grow\n",
        "max_depth = [int(x) for x in np.linspace(5, 30,num=6)]\n",
        "## min_samples_split denotes the minimum no of features required to split an internal node\n",
        "min_samples_split = [2, 5 ,10, 15, 100]\n",
        "## min_samples_split denotes the minimum no of features required to become a leaf node\n",
        "min_samples_leaf = [1, 2, 5, 10]"
      ],
      "execution_count": 25,
      "outputs": []
    },
    {
      "cell_type": "code",
      "metadata": {
        "execution": {
          "iopub.status.busy": "2021-06-14T09:00:49.314138Z",
          "iopub.execute_input": "2021-06-14T09:00:49.314601Z",
          "iopub.status.idle": "2021-06-14T09:00:49.325106Z",
          "shell.execute_reply.started": "2021-06-14T09:00:49.314568Z",
          "shell.execute_reply": "2021-06-14T09:00:49.323917Z"
        },
        "trusted": true,
        "id": "l3PXONybygHl"
      },
      "source": [
        "# Number of trees in random forest\n",
        "n_estimators = [int(x) for x in np.linspace(start = 100, stop = 1200, num = 12)]\n",
        "# Number of features to consider at every split\n",
        "max_features = [\"auto\" , \"sqrt\"]\n",
        "# Maximum number of levels in tree\n",
        "max_depth = [int(x) for x in np.linspace(5, 30, num = 6)]\n",
        "# max_depth.append(None)\n",
        "# Minimum number of samples required to split a node\n",
        "min_samples_split = [2, 5, 10, 15, 100]\n",
        "# Minimum number of samples required at each leaf node\n",
        "min_samples_leaf = [1, 2, 5, 10]"
      ],
      "execution_count": 26,
      "outputs": []
    },
    {
      "cell_type": "code",
      "metadata": {
        "execution": {
          "iopub.status.busy": "2021-06-14T09:00:49.326420Z",
          "iopub.execute_input": "2021-06-14T09:00:49.326859Z",
          "iopub.status.idle": "2021-06-14T09:00:49.345757Z",
          "shell.execute_reply.started": "2021-06-14T09:00:49.326819Z",
          "shell.execute_reply": "2021-06-14T09:00:49.344579Z"
        },
        "trusted": true,
        "colab": {
          "base_uri": "https://localhost:8080/"
        },
        "id": "1EG5sMfWygHl",
        "outputId": "ad7e752c-d83f-48f5-c976-5144612421f1"
      },
      "source": [
        "random_grid = {\n",
        "    \"n_estimators\" : n_estimators,\n",
        "    \"max_depth\" : max_depth,\n",
        "    \"min_samples_split\" : min_samples_split,\n",
        "    \"min_samples_leaf\" : min_samples_leaf\n",
        "}\n",
        "print(random_grid)"
      ],
      "execution_count": 27,
      "outputs": [
        {
          "output_type": "stream",
          "text": [
            "{'n_estimators': [100, 200, 300, 400, 500, 600, 700, 800, 900, 1000, 1100, 1200], 'max_depth': [5, 10, 15, 20, 25, 30], 'min_samples_split': [2, 5, 10, 15, 100], 'min_samples_leaf': [1, 2, 5, 10]}\n"
          ],
          "name": "stdout"
        }
      ]
    },
    {
      "cell_type": "code",
      "metadata": {
        "execution": {
          "iopub.status.busy": "2021-06-14T09:05:43.766416Z",
          "iopub.execute_input": "2021-06-14T09:05:43.766799Z",
          "iopub.status.idle": "2021-06-14T09:05:43.771779Z",
          "shell.execute_reply.started": "2021-06-14T09:05:43.766766Z",
          "shell.execute_reply": "2021-06-14T09:05:43.770720Z"
        },
        "trusted": true,
        "id": "7QZ_Lc-XygHm"
      },
      "source": [
        "from sklearn.ensemble import RandomForestRegressor\n",
        "RF_model = RandomForestRegressor()\n",
        "rf_randomized = RandomizedSearchCV( \n",
        "        estimator = RF_model, \n",
        "        param_distributions = random_grid, \n",
        "        n_iter = 10, \n",
        "        cv = 5, \n",
        "        scoring = \"neg_mean_squared_error\", \n",
        "        verbose = 2, \n",
        "        random_state = 42)"
      ],
      "execution_count": 28,
      "outputs": []
    },
    {
      "cell_type": "raw",
      "metadata": {
        "execution": {
          "iopub.status.busy": "2021-06-03T13:16:53.221405Z",
          "iopub.execute_input": "2021-06-03T13:16:53.221816Z",
          "iopub.status.idle": "2021-06-03T13:16:53.22735Z",
          "shell.execute_reply.started": "2021-06-03T13:16:53.221781Z",
          "shell.execute_reply": "2021-06-03T13:16:53.226311Z"
        },
        "id": "mt5MJW4JygHm"
      },
      "source": [
        "rf_randomized = RandomizedSearchCV( \n",
        "        estimator = RF_model, \n",
        "        param_distributions = random_grid, \n",
        "        n_iter = 10, \n",
        "        cv = 5, \n",
        "        scoring = \"neg_mean_squared_error\", \n",
        "        verbose = 2, \n",
        "        random_state = 42,\n",
        "        n_job = 1)"
      ]
    },
    {
      "cell_type": "code",
      "metadata": {
        "execution": {
          "iopub.status.busy": "2021-06-14T09:05:49.104812Z",
          "iopub.execute_input": "2021-06-14T09:05:49.105273Z",
          "iopub.status.idle": "2021-06-14T09:06:29.042666Z",
          "shell.execute_reply.started": "2021-06-14T09:05:49.105227Z",
          "shell.execute_reply": "2021-06-14T09:06:29.041777Z"
        },
        "trusted": true,
        "colab": {
          "base_uri": "https://localhost:8080/"
        },
        "id": "sb9QOvsPygHm",
        "outputId": "89f3451a-80c7-47f7-ce01-806b614f4a93"
      },
      "source": [
        "rf_randomized.fit(X_train,y_train)"
      ],
      "execution_count": 29,
      "outputs": [
        {
          "output_type": "stream",
          "text": [
            "Fitting 5 folds for each of 10 candidates, totalling 50 fits\n",
            "[CV] n_estimators=1100, min_samples_split=15, min_samples_leaf=5, max_depth=25 \n"
          ],
          "name": "stdout"
        },
        {
          "output_type": "stream",
          "text": [
            "[Parallel(n_jobs=1)]: Using backend SequentialBackend with 1 concurrent workers.\n"
          ],
          "name": "stderr"
        },
        {
          "output_type": "stream",
          "text": [
            "[CV]  n_estimators=1100, min_samples_split=15, min_samples_leaf=5, max_depth=25, total=   1.5s\n",
            "[CV] n_estimators=1100, min_samples_split=15, min_samples_leaf=5, max_depth=25 \n"
          ],
          "name": "stdout"
        },
        {
          "output_type": "stream",
          "text": [
            "[Parallel(n_jobs=1)]: Done   1 out of   1 | elapsed:    1.5s remaining:    0.0s\n"
          ],
          "name": "stderr"
        },
        {
          "output_type": "stream",
          "text": [
            "[CV]  n_estimators=1100, min_samples_split=15, min_samples_leaf=5, max_depth=25, total=   1.5s\n",
            "[CV] n_estimators=1100, min_samples_split=15, min_samples_leaf=5, max_depth=25 \n",
            "[CV]  n_estimators=1100, min_samples_split=15, min_samples_leaf=5, max_depth=25, total=   1.5s\n",
            "[CV] n_estimators=1100, min_samples_split=15, min_samples_leaf=5, max_depth=25 \n",
            "[CV]  n_estimators=1100, min_samples_split=15, min_samples_leaf=5, max_depth=25, total=   1.4s\n",
            "[CV] n_estimators=1100, min_samples_split=15, min_samples_leaf=5, max_depth=25 \n",
            "[CV]  n_estimators=1100, min_samples_split=15, min_samples_leaf=5, max_depth=25, total=   1.4s\n",
            "[CV] n_estimators=900, min_samples_split=5, min_samples_leaf=5, max_depth=20 \n",
            "[CV]  n_estimators=900, min_samples_split=5, min_samples_leaf=5, max_depth=20, total=   1.2s\n",
            "[CV] n_estimators=900, min_samples_split=5, min_samples_leaf=5, max_depth=20 \n",
            "[CV]  n_estimators=900, min_samples_split=5, min_samples_leaf=5, max_depth=20, total=   1.2s\n",
            "[CV] n_estimators=900, min_samples_split=5, min_samples_leaf=5, max_depth=20 \n",
            "[CV]  n_estimators=900, min_samples_split=5, min_samples_leaf=5, max_depth=20, total=   1.2s\n",
            "[CV] n_estimators=900, min_samples_split=5, min_samples_leaf=5, max_depth=20 \n",
            "[CV]  n_estimators=900, min_samples_split=5, min_samples_leaf=5, max_depth=20, total=   1.2s\n",
            "[CV] n_estimators=900, min_samples_split=5, min_samples_leaf=5, max_depth=20 \n",
            "[CV]  n_estimators=900, min_samples_split=5, min_samples_leaf=5, max_depth=20, total=   1.2s\n",
            "[CV] n_estimators=1100, min_samples_split=10, min_samples_leaf=2, max_depth=30 \n",
            "[CV]  n_estimators=1100, min_samples_split=10, min_samples_leaf=2, max_depth=30, total=   1.4s\n",
            "[CV] n_estimators=1100, min_samples_split=10, min_samples_leaf=2, max_depth=30 \n",
            "[CV]  n_estimators=1100, min_samples_split=10, min_samples_leaf=2, max_depth=30, total=   1.4s\n",
            "[CV] n_estimators=1100, min_samples_split=10, min_samples_leaf=2, max_depth=30 \n",
            "[CV]  n_estimators=1100, min_samples_split=10, min_samples_leaf=2, max_depth=30, total=   1.5s\n",
            "[CV] n_estimators=1100, min_samples_split=10, min_samples_leaf=2, max_depth=30 \n",
            "[CV]  n_estimators=1100, min_samples_split=10, min_samples_leaf=2, max_depth=30, total=   1.4s\n",
            "[CV] n_estimators=1100, min_samples_split=10, min_samples_leaf=2, max_depth=30 \n",
            "[CV]  n_estimators=1100, min_samples_split=10, min_samples_leaf=2, max_depth=30, total=   1.5s\n",
            "[CV] n_estimators=300, min_samples_split=100, min_samples_leaf=5, max_depth=25 \n",
            "[CV]  n_estimators=300, min_samples_split=100, min_samples_leaf=5, max_depth=25, total=   0.4s\n",
            "[CV] n_estimators=300, min_samples_split=100, min_samples_leaf=5, max_depth=25 \n",
            "[CV]  n_estimators=300, min_samples_split=100, min_samples_leaf=5, max_depth=25, total=   0.4s\n",
            "[CV] n_estimators=300, min_samples_split=100, min_samples_leaf=5, max_depth=25 \n",
            "[CV]  n_estimators=300, min_samples_split=100, min_samples_leaf=5, max_depth=25, total=   0.4s\n",
            "[CV] n_estimators=300, min_samples_split=100, min_samples_leaf=5, max_depth=25 \n",
            "[CV]  n_estimators=300, min_samples_split=100, min_samples_leaf=5, max_depth=25, total=   0.4s\n",
            "[CV] n_estimators=300, min_samples_split=100, min_samples_leaf=5, max_depth=25 \n",
            "[CV]  n_estimators=300, min_samples_split=100, min_samples_leaf=5, max_depth=25, total=   0.4s\n",
            "[CV] n_estimators=400, min_samples_split=5, min_samples_leaf=5, max_depth=25 \n",
            "[CV]  n_estimators=400, min_samples_split=5, min_samples_leaf=5, max_depth=25, total=   0.5s\n",
            "[CV] n_estimators=400, min_samples_split=5, min_samples_leaf=5, max_depth=25 \n",
            "[CV]  n_estimators=400, min_samples_split=5, min_samples_leaf=5, max_depth=25, total=   0.5s\n",
            "[CV] n_estimators=400, min_samples_split=5, min_samples_leaf=5, max_depth=25 \n",
            "[CV]  n_estimators=400, min_samples_split=5, min_samples_leaf=5, max_depth=25, total=   0.5s\n",
            "[CV] n_estimators=400, min_samples_split=5, min_samples_leaf=5, max_depth=25 \n",
            "[CV]  n_estimators=400, min_samples_split=5, min_samples_leaf=5, max_depth=25, total=   0.5s\n",
            "[CV] n_estimators=400, min_samples_split=5, min_samples_leaf=5, max_depth=25 \n",
            "[CV]  n_estimators=400, min_samples_split=5, min_samples_leaf=5, max_depth=25, total=   0.6s\n",
            "[CV] n_estimators=100, min_samples_split=10, min_samples_leaf=2, max_depth=25 \n",
            "[CV]  n_estimators=100, min_samples_split=10, min_samples_leaf=2, max_depth=25, total=   0.1s\n",
            "[CV] n_estimators=100, min_samples_split=10, min_samples_leaf=2, max_depth=25 \n",
            "[CV]  n_estimators=100, min_samples_split=10, min_samples_leaf=2, max_depth=25, total=   0.1s\n",
            "[CV] n_estimators=100, min_samples_split=10, min_samples_leaf=2, max_depth=25 \n",
            "[CV]  n_estimators=100, min_samples_split=10, min_samples_leaf=2, max_depth=25, total=   0.1s\n",
            "[CV] n_estimators=100, min_samples_split=10, min_samples_leaf=2, max_depth=25 \n",
            "[CV]  n_estimators=100, min_samples_split=10, min_samples_leaf=2, max_depth=25, total=   0.1s\n",
            "[CV] n_estimators=100, min_samples_split=10, min_samples_leaf=2, max_depth=25 \n",
            "[CV]  n_estimators=100, min_samples_split=10, min_samples_leaf=2, max_depth=25, total=   0.1s\n",
            "[CV] n_estimators=200, min_samples_split=2, min_samples_leaf=5, max_depth=5 \n",
            "[CV]  n_estimators=200, min_samples_split=2, min_samples_leaf=5, max_depth=5, total=   0.3s\n",
            "[CV] n_estimators=200, min_samples_split=2, min_samples_leaf=5, max_depth=5 \n",
            "[CV]  n_estimators=200, min_samples_split=2, min_samples_leaf=5, max_depth=5, total=   0.3s\n",
            "[CV] n_estimators=200, min_samples_split=2, min_samples_leaf=5, max_depth=5 \n",
            "[CV]  n_estimators=200, min_samples_split=2, min_samples_leaf=5, max_depth=5, total=   0.3s\n",
            "[CV] n_estimators=200, min_samples_split=2, min_samples_leaf=5, max_depth=5 \n",
            "[CV]  n_estimators=200, min_samples_split=2, min_samples_leaf=5, max_depth=5, total=   0.3s\n",
            "[CV] n_estimators=200, min_samples_split=2, min_samples_leaf=5, max_depth=5 \n",
            "[CV]  n_estimators=200, min_samples_split=2, min_samples_leaf=5, max_depth=5, total=   0.3s\n",
            "[CV] n_estimators=1100, min_samples_split=15, min_samples_leaf=10, max_depth=10 \n",
            "[CV]  n_estimators=1100, min_samples_split=15, min_samples_leaf=10, max_depth=10, total=   1.4s\n",
            "[CV] n_estimators=1100, min_samples_split=15, min_samples_leaf=10, max_depth=10 \n",
            "[CV]  n_estimators=1100, min_samples_split=15, min_samples_leaf=10, max_depth=10, total=   1.4s\n",
            "[CV] n_estimators=1100, min_samples_split=15, min_samples_leaf=10, max_depth=10 \n",
            "[CV]  n_estimators=1100, min_samples_split=15, min_samples_leaf=10, max_depth=10, total=   1.4s\n",
            "[CV] n_estimators=1100, min_samples_split=15, min_samples_leaf=10, max_depth=10 \n",
            "[CV]  n_estimators=1100, min_samples_split=15, min_samples_leaf=10, max_depth=10, total=   1.4s\n",
            "[CV] n_estimators=1100, min_samples_split=15, min_samples_leaf=10, max_depth=10 \n",
            "[CV]  n_estimators=1100, min_samples_split=15, min_samples_leaf=10, max_depth=10, total=   1.4s\n",
            "[CV] n_estimators=300, min_samples_split=15, min_samples_leaf=1, max_depth=30 \n",
            "[CV]  n_estimators=300, min_samples_split=15, min_samples_leaf=1, max_depth=30, total=   0.4s\n",
            "[CV] n_estimators=300, min_samples_split=15, min_samples_leaf=1, max_depth=30 \n",
            "[CV]  n_estimators=300, min_samples_split=15, min_samples_leaf=1, max_depth=30, total=   0.4s\n",
            "[CV] n_estimators=300, min_samples_split=15, min_samples_leaf=1, max_depth=30 \n",
            "[CV]  n_estimators=300, min_samples_split=15, min_samples_leaf=1, max_depth=30, total=   0.4s\n",
            "[CV] n_estimators=300, min_samples_split=15, min_samples_leaf=1, max_depth=30 \n",
            "[CV]  n_estimators=300, min_samples_split=15, min_samples_leaf=1, max_depth=30, total=   0.4s\n",
            "[CV] n_estimators=300, min_samples_split=15, min_samples_leaf=1, max_depth=30 \n",
            "[CV]  n_estimators=300, min_samples_split=15, min_samples_leaf=1, max_depth=30, total=   0.4s\n",
            "[CV] n_estimators=700, min_samples_split=10, min_samples_leaf=2, max_depth=10 \n",
            "[CV]  n_estimators=700, min_samples_split=10, min_samples_leaf=2, max_depth=10, total=   0.9s\n",
            "[CV] n_estimators=700, min_samples_split=10, min_samples_leaf=2, max_depth=10 \n",
            "[CV]  n_estimators=700, min_samples_split=10, min_samples_leaf=2, max_depth=10, total=   0.9s\n",
            "[CV] n_estimators=700, min_samples_split=10, min_samples_leaf=2, max_depth=10 \n",
            "[CV]  n_estimators=700, min_samples_split=10, min_samples_leaf=2, max_depth=10, total=   0.9s\n",
            "[CV] n_estimators=700, min_samples_split=10, min_samples_leaf=2, max_depth=10 \n",
            "[CV]  n_estimators=700, min_samples_split=10, min_samples_leaf=2, max_depth=10, total=   0.9s\n",
            "[CV] n_estimators=700, min_samples_split=10, min_samples_leaf=2, max_depth=10 \n",
            "[CV]  n_estimators=700, min_samples_split=10, min_samples_leaf=2, max_depth=10, total=   0.9s\n"
          ],
          "name": "stdout"
        },
        {
          "output_type": "stream",
          "text": [
            "[Parallel(n_jobs=1)]: Done  50 out of  50 | elapsed:   40.6s finished\n"
          ],
          "name": "stderr"
        },
        {
          "output_type": "execute_result",
          "data": {
            "text/plain": [
              "RandomizedSearchCV(cv=5, error_score=nan,\n",
              "                   estimator=RandomForestRegressor(bootstrap=True,\n",
              "                                                   ccp_alpha=0.0,\n",
              "                                                   criterion='mse',\n",
              "                                                   max_depth=None,\n",
              "                                                   max_features='auto',\n",
              "                                                   max_leaf_nodes=None,\n",
              "                                                   max_samples=None,\n",
              "                                                   min_impurity_decrease=0.0,\n",
              "                                                   min_impurity_split=None,\n",
              "                                                   min_samples_leaf=1,\n",
              "                                                   min_samples_split=2,\n",
              "                                                   min_weight_fraction_leaf=0.0,\n",
              "                                                   n_estimators=100,\n",
              "                                                   n_jobs=None, oob_score=Fals...\n",
              "                                                   warm_start=False),\n",
              "                   iid='deprecated', n_iter=10, n_jobs=None,\n",
              "                   param_distributions={'max_depth': [5, 10, 15, 20, 25, 30],\n",
              "                                        'min_samples_leaf': [1, 2, 5, 10],\n",
              "                                        'min_samples_split': [2, 5, 10, 15,\n",
              "                                                              100],\n",
              "                                        'n_estimators': [100, 200, 300, 400,\n",
              "                                                         500, 600, 700, 800,\n",
              "                                                         900, 1000, 1100,\n",
              "                                                         1200]},\n",
              "                   pre_dispatch='2*n_jobs', random_state=42, refit=True,\n",
              "                   return_train_score=False, scoring='neg_mean_squared_error',\n",
              "                   verbose=2)"
            ]
          },
          "metadata": {
            "tags": []
          },
          "execution_count": 29
        }
      ]
    },
    {
      "cell_type": "code",
      "metadata": {
        "execution": {
          "iopub.status.busy": "2021-06-14T09:07:00.441396Z",
          "iopub.execute_input": "2021-06-14T09:07:00.441911Z",
          "iopub.status.idle": "2021-06-14T09:07:00.538243Z",
          "shell.execute_reply.started": "2021-06-14T09:07:00.441869Z",
          "shell.execute_reply": "2021-06-14T09:07:00.536891Z"
        },
        "trusted": true,
        "id": "kzNPNJBPygHm"
      },
      "source": [
        "predictions = rf_randomized.predict(X_test)"
      ],
      "execution_count": 30,
      "outputs": []
    },
    {
      "cell_type": "code",
      "metadata": {
        "execution": {
          "iopub.status.busy": "2021-06-14T09:07:03.124293Z",
          "iopub.execute_input": "2021-06-14T09:07:03.124755Z",
          "iopub.status.idle": "2021-06-14T09:07:03.377310Z",
          "shell.execute_reply.started": "2021-06-14T09:07:03.124714Z",
          "shell.execute_reply": "2021-06-14T09:07:03.374634Z"
        },
        "trusted": true,
        "colab": {
          "base_uri": "https://localhost:8080/",
          "height": 350
        },
        "id": "rk4C4D37ygHn",
        "outputId": "ed7acca8-eae5-41d2-af61-d84344d721bc"
      },
      "source": [
        "sns.distplot(y_test-predictions)"
      ],
      "execution_count": 31,
      "outputs": [
        {
          "output_type": "stream",
          "text": [
            "/usr/local/lib/python3.7/dist-packages/seaborn/distributions.py:2557: FutureWarning: `distplot` is a deprecated function and will be removed in a future version. Please adapt your code to use either `displot` (a figure-level function with similar flexibility) or `histplot` (an axes-level function for histograms).\n",
            "  warnings.warn(msg, FutureWarning)\n"
          ],
          "name": "stderr"
        },
        {
          "output_type": "execute_result",
          "data": {
            "text/plain": [
              "<matplotlib.axes._subplots.AxesSubplot at 0x7efd7619c250>"
            ]
          },
          "metadata": {
            "tags": []
          },
          "execution_count": 31
        },
        {
          "output_type": "display_data",
          "data": {
            "image/png": "[encoded data removed]",
            "text/plain": [
              "<Figure size 432x288 with 1 Axes>"
            ]
          },
          "metadata": {
            "tags": [],
            "needs_background": "light"
          }
        }
      ]
    },
    {
      "cell_type": "code",
      "metadata": {
        "execution": {
          "iopub.status.busy": "2021-06-14T09:07:06.558616Z",
          "iopub.execute_input": "2021-06-14T09:07:06.559099Z",
          "iopub.status.idle": "2021-06-14T09:07:06.704558Z",
          "shell.execute_reply.started": "2021-06-14T09:07:06.559053Z",
          "shell.execute_reply": "2021-06-14T09:07:06.703356Z"
        },
        "trusted": true,
        "colab": {
          "base_uri": "https://localhost:8080/",
          "height": 282
        },
        "id": "hIw3psD4ygHn",
        "outputId": "a60b2ddb-109a-422f-df34-cc95ff276955"
      },
      "source": [
        "plt.scatter(y_test,predictions)"
      ],
      "execution_count": 32,
      "outputs": [
        {
          "output_type": "execute_result",
          "data": {
            "text/plain": [
              "<matplotlib.collections.PathCollection at 0x7efd7410c190>"
            ]
          },
          "metadata": {
            "tags": []
          },
          "execution_count": 32
        },
        {
          "output_type": "display_data",
          "data": {
            "image/png": "[encoded data removed]",
            "text/plain": [
              "<Figure size 432x288 with 1 Axes>"
            ]
          },
          "metadata": {
            "tags": [],
            "needs_background": "light"
          }
        }
      ]
    },
    {
      "cell_type": "code",
      "metadata": {
        "execution": {
          "iopub.status.busy": "2021-06-14T09:07:09.644144Z",
          "iopub.execute_input": "2021-06-14T09:07:09.644675Z",
          "iopub.status.idle": "2021-06-14T09:07:09.707880Z",
          "shell.execute_reply.started": "2021-06-14T09:07:09.644625Z",
          "shell.execute_reply": "2021-06-14T09:07:09.706502Z"
        },
        "trusted": true,
        "id": "wh6BMqudygHn"
      },
      "source": [
        "import pickle\n",
        "file = open(\"car_price_prediction.pkl\",'wb')\n",
        "pickle.dump(rf_randomized, file)"
      ],
      "execution_count": 33,
      "outputs": []
    }
  ]
}